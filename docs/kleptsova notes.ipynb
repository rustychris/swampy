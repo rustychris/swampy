{
 "cells": [
  {
   "cell_type": "code",
   "execution_count": 44,
   "metadata": {},
   "outputs": [],
   "source": [
    "# Exploring sympy as a way of building up the model\n",
    "from sympy import *\n",
    "from sympy import vector"
   ]
  },
  {
   "cell_type": "code",
   "execution_count": 45,
   "metadata": {},
   "outputs": [],
   "source": [
    "# Have to make my own dot, it appears.\n",
    "import sympy \n",
    "\n",
    "class myDotP(Function):\n",
    "    \"\"\"\n",
    "    Delayed dot product.\n",
    "    \"\"\"\n",
    "    def doit(self):\n",
    "        x,y=self.args\n",
    "        result=sympy.S.Zero\n",
    "        \n",
    "        # standardize both to [n,1]\n",
    "        if x.shape[1]>1:\n",
    "            x=x.T\n",
    "        if y.shape[1]>1:\n",
    "            y=y.T\n",
    "        assert x.shape[1]==1\n",
    "        assert y.shape[1]==1\n",
    "        assert x.shape[0]==y.shape[0]\n",
    "        for k in range(x.shape[0]):\n",
    "            result=result + x[k,0]*y[k,0]\n",
    "        return result\n",
    "    \n",
    "    def _latex(self, printer=None):\n",
    "        a, b = [printer.doprint(i) for i in self.args]\n",
    "        return r\"%s \\cdot %s\" % ( a,b )\n",
    "    \n",
    "class SumForeach(Sum):\n",
    "    \"\"\"Summation over elements in a matrix\"\"\"\n",
    "    \n",
    "    def __new__(cls, function, *symbols, **assumptions):\n",
    "        dummy,fset=symbols[0]\n",
    "        dummy_i=Symbol('idx_'+dummy.name)\n",
    "\n",
    "        # Allow row or column vector\n",
    "        if fset.shape[0]==1:\n",
    "            new_sym=(dummy_i,0,fset.shape[1]-1)\n",
    "            opand=fset[0,dummy_i]\n",
    "        elif fset.shape[1]==1:\n",
    "            new_sym=(dummy_i,0,fset.shape[0]-1)\n",
    "            opand=fset[dummy_i,0]\n",
    "            \n",
    "        new_f=Subs(function,dummy,opand)\n",
    "        obj = SumForeachExpand(new_f, new_sym, *symbols[1:], **assumptions)\n",
    "        \n",
    "        return obj\n",
    "\n",
    "class SumForeachExpand(Sum):\n",
    "    # Unevaluated Sum over a matrix\n",
    "    # One issue here is that it's possible to subs in a matrix\n",
    "    # which doesn't have the same shape as the one that was used to\n",
    "    # define the Summation.  That's because the limits are evaluated\n",
    "    # from fset's shape at the time of instantiation.  Think about it.\n",
    "    def _latex(self, printer=None):\n",
    "        # Reach inside the Subs instance:\n",
    "        dummy=printer.doprint(self.args[0].args[1][0])\n",
    "        fset=printer.doprint(self.args[0].args[2][0].args[0])\n",
    "        func=printer.doprint(self.args[0].args[0])\n",
    "        return r'\\sum_{%s \\in %s} %s'%(dummy,fset,func)\n"
   ]
  },
  {
   "cell_type": "code",
   "execution_count": 466,
   "metadata": {},
   "outputs": [],
   "source": [
    "# TOPOLOGY:\n",
    "N_f=Symbol(\"N_f\") # global number of faces\n",
    "N_c=Symbol(\"N_c\") # global number of cells\n",
    "\n",
    "f,c,j=symbols('f c j') # ,cls=Idx) # Generic face and cell indices\n",
    "fi,ci=symbols('fi ci') #side index of cell, cell index of side\n",
    "\n",
    "fw=Wild('f')\n",
    "jw=Wild('j')\n",
    "cw=Wild('c')\n",
    "\n",
    "# Kleptsova uses the sparse s[f,c] connection between edges and cell\n",
    "# s[f,c] is +1 if face f is adjacent to cell c and f's normal is out of\n",
    "# c.  -1 if the normal is into c.  0 if f is not adjacent to c.\n",
    "\n",
    "# I'd rather use a more direct description:\n",
    "Nf_max=Symbol('N_f,max') # maximum number of sides for a cell\n",
    "Nf_c=IndexedBase('Nf') # number of sides for cell c\n",
    "\n",
    "F=IndexedBase('F',shape=(N_c,Nf_max)) # F[c,i] the i'th face adjacent to cell c  \n",
    "S=IndexedBase('S',shape=(N_c,Nf_max)) # S[c,i] sign of the normal of F[c,i] w.r.t. c's outward normal\n",
    "# As a MatrixSymbol, had issues with C getting substituted.\n",
    "C=IndexedBase('C',shape=(N_f,2)) # # opposite of F.  C[f,i] the 0/1 neighboring cell of face f\n",
    "\n",
    "# Question: what is the right convention here for boundary edges?\n",
    "c1=IndexedBase('c1') # 'upstream' cell for edge f  duplicates C!\n",
    "c2=IndexedBase('c2') # 'downstream' cell for edge f\n",
    "\n",
    "# constant GEOMETRY:\n",
    "A_c=IndexedBase(\"A\") # cell area\n",
    "lf=IndexedBase(\"l\") # length of face f\n",
    "b=IndexedBase('b') # cell bed elevation\n",
    "\n",
    "dfc=IndexedBase('dfc',shape=(N_c,Nf_max))\n",
    "df=IndexedBase('df')\n",
    "\n",
    "#alpha=MatrixSymbol(r'\\alpha',Nf_max,2) # weighting for cell c on edge j\n",
    "alpha=IndexedBase(r'\\alpha',shape=(Nf_max,2))\n",
    "\n",
    "nf=MatrixSymbol(r'\\mathbf{n}',Nf_max,2) # edge normal. vector-valued\n",
    "\n",
    "# variable GEOMETRY:\n",
    "h_fn=IndexedBase(\"hf^n\") # edge depth\n",
    "h_cn=IndexedBase('hc^n') # water column depth\n",
    "eta_n=IndexedBase(r'\\eta^n')\n",
    "eta_np1=IndexedBase(r'\\eta^{n+1}')\n",
    "\n",
    "# DYNAMIC\n",
    "u_fn=IndexedBase(\"u^n\")       # edge normal velocity\n",
    "u_fnp1=IndexedBase(\"u^{n+1}\") #\n",
    "a_fn=IndexedBase(\"a^n\") # advective term\n",
    "\n",
    "G_fn=IndexedBase(\"G^n\")       # pressure term\n",
    "G_fnp1=IndexedBase(\"G^{n+1}\") # \n",
    "hbar=IndexedBase(r'\\overline{h}') # average cell depths in advection\n",
    "ufstar=MatrixSymbol(r'\\mathbf{u^*}',N_f,2) # vector valued\n",
    "ucstar=MatrixSymbol(r'\\mathbf{u_*}',N_c,2) # vector valued\n",
    "\n",
    "\n",
    "# NUMERICAL\n",
    "g=Symbol('g') # gravity\n",
    "dt=Symbol(\"\\Delta t\")\n",
    "theta=Symbol(r\"\\theta\")"
   ]
  },
  {
   "cell_type": "code",
   "execution_count": 467,
   "metadata": {},
   "outputs": [
    {
     "data": {
      "text/latex": [
       "$\\displaystyle {A}_{c} {\\eta^{n+1}}_{c} = {A}_{c} {\\eta^n}_{c} - \\sum_{fi=0}^{{Nf}_{c} - 1} \\Delta t \\left(\\theta {u^{n+1}}_{{F}_{c,fi}} + \\left(1 - \\theta\\right) {u^{n}}_{{F}_{c,fi}}\\right) {S}_{c,fi} {hf^{n}}_{{F}_{c,fi}} {l}_{{F}_{c,fi}}$"
      ],
      "text/plain": [
       "Eq(A[c]*\\eta^{n+1}[c], A[c]*\\eta^n[c] - Sum(\\Delta t*(\\theta*u^{n+1}[F[c, fi]] + (1 - \\theta)*u^n[F[c, fi]])*S[c, fi]*hf^n[F[c, fi]]*l[F[c, fi]], (fi, 0, Nf[c] - 1)))"
      ]
     },
     "execution_count": 467,
     "metadata": {},
     "output_type": "execute_result"
    }
   ],
   "source": [
    "# Kleptsova, eq 5, rewritten with S,F instead of sfc, and combine the\n",
    "# summations for clarity\n",
    "eq5a=Eq( A_c[c] * eta_np1[c],\n",
    "         A_c[c] * eta_n[c]  \n",
    "         - Sum(    dt * S[c,fi] *lf[F[c,fi]] * h_fn[F[c,fi]] \n",
    "               * ( theta*u_fnp1[F[c,fi]] + (1-theta)*u_fn[F[c,fi]]),\n",
    "                           (fi,0,Nf_c[c]-1)) )\n",
    "eq5a"
   ]
  },
  {
   "cell_type": "code",
   "execution_count": 468,
   "metadata": {},
   "outputs": [
    {
     "data": {
      "text/latex": [
       "$\\displaystyle {u^{n+1}}_{f} = - \\Delta t g \\left(\\theta {G^{n+1}}_{f} + \\left(1 - \\theta\\right) {G^{n}}_{f}\\right) + \\Delta t {a^{n}}_{f} + {u^{n}}_{f}$"
      ],
      "text/plain": [
       "Eq(u^{n+1}[f_], -\\Delta t*g*(\\theta*G^{n+1}[f_] + (1 - \\theta)*G^n[f_]) + \\Delta t*a^n[f_] + u^n[f_])"
      ]
     },
     "execution_count": 468,
     "metadata": {},
     "output_type": "execute_result"
    }
   ],
   "source": [
    "# Kleptsova eq 5, omitting Coriolis, and simplified for single layer.\n",
    "# Use fw=wildcard f to simplify substitution below\n",
    "eq5b=Eq( u_fnp1[fw],\n",
    "        u_fn[fw] + dt*a_fn[fw]\n",
    "        -g*dt*(theta*G_fnp1[fw] + (1-theta)*G_fn[fw]) )\n",
    "eq5b"
   ]
  },
  {
   "cell_type": "code",
   "execution_count": 469,
   "metadata": {},
   "outputs": [
    {
     "data": {
      "text/latex": [
       "$\\displaystyle {hf^{n}}_{f} = \\begin{cases} {hc^{n}}_{{c_{1}}_{f}} & \\text{for}\\: {u^{n}}_{f} > 0 \\\\{hc^{n}}_{{c_{2}}_{f}} & \\text{for}\\: {u^{n}}_{f} < 0 \\\\\\max\\left({\\eta^n}_{{c_{1}}_{f}}, {\\eta^n}_{{c_{2}}_{f}}\\right) - \\max\\left({b}_{{c_{1}}_{f}}, {b}_{{c_{2}}_{f}}\\right) & \\text{otherwise} \\end{cases}$"
      ],
      "text/plain": [
       "Eq(hf^n[f], Piecewise((hc^n[c1[f]], u^n[f] > 0), (hc^n[c2[f]], u^n[f] < 0), (Max(\\eta^n[c1[f]], \\eta^n[c2[f]]) - Max(b[c1[f]], b[c2[f]]), True)))"
      ]
     },
     "execution_count": 469,
     "metadata": {},
     "output_type": "execute_result"
    }
   ],
   "source": [
    "# Definition of h_fn\n",
    "# rather than continue with their sfc notation, use the\n",
    "# more direct c1(f)\n",
    "eq8a=Eq( h_fn[f],\n",
    "        Piecewise( (h_cn[c1[f]],  u_fn[f]>0),\n",
    "                   (h_cn[c2[f]],  u_fn[f]<0),\n",
    "                   (Max( eta_n[c1[f]], eta_n[c2[f]])\n",
    "                    -\n",
    "                    Max( b[c1[f]], b[c2[f]]),\n",
    "                    True) ) )\n",
    "#display(eq8a)\n",
    "eq8b=Eq( h_cn[c],\n",
    "         eta_n[c] - b[c])\n",
    "#display(eq8b)\n",
    "\n",
    "eq8=eq8a.replace(eq8b.lhs,eq8b.rhs)\n",
    "eq8                "
   ]
  },
  {
   "cell_type": "code",
   "execution_count": 470,
   "metadata": {},
   "outputs": [
    {
     "data": {
      "text/latex": [
       "$\\displaystyle {A}_{c} {\\eta^{n+1}}_{c} = {A}_{c} {\\eta^n}_{c} - \\sum_{fi=0}^{{Nf}_{c} - 1} \\Delta t \\left(\\theta \\left(- \\Delta t g \\left(\\theta {G^{n+1}}_{{F}_{c,fi}} + \\left(1 - \\theta\\right) {G^{n}}_{{F}_{c,fi}}\\right) + \\Delta t {a^{n}}_{{F}_{c,fi}} + {u^{n}}_{{F}_{c,fi}}\\right) + \\left(1 - \\theta\\right) {u^{n}}_{{F}_{c,fi}}\\right) {S}_{c,fi} {hf^{n}}_{{F}_{c,fi}} {l}_{{F}_{c,fi}}$"
      ],
      "text/plain": [
       "Eq(A[c]*\\eta^{n+1}[c], A[c]*\\eta^n[c] - Sum(\\Delta t*(\\theta*(-\\Delta t*g*(\\theta*G^{n+1}[F[c, fi]] + (1 - \\theta)*G^n[F[c, fi]]) + \\Delta t*a^n[F[c, fi]] + u^n[F[c, fi]]) + (1 - \\theta)*u^n[F[c, fi]])*S[c, fi]*hf^n[F[c, fi]]*l[F[c, fi]], (fi, 0, Nf[c] - 1)))"
      ]
     },
     "execution_count": 470,
     "metadata": {},
     "output_type": "execute_result"
    }
   ],
   "source": [
    "# The solution procedure\n",
    "# eq5a give the freesurface update.  But it has the implicit velocity\n",
    "# in it.  So we substitute, but use replace because the indexes \n",
    "# defeat subs().\n",
    "eq_comb1=eq5a.replace(eq5b.lhs,eq5b.rhs)\n",
    "eq_comb1"
   ]
  },
  {
   "cell_type": "code",
   "execution_count": 471,
   "metadata": {},
   "outputs": [
    {
     "data": {
      "text/latex": [
       "$\\displaystyle {G^{n}}_{f} = \\frac{- {\\eta^n}_{{c_{1}}_{f}} + {\\eta^n}_{{c_{2}}_{f}}}{{df}_{f}}$"
      ],
      "text/plain": [
       "Eq(G^n[f_], (-\\eta^n[c1[f_]] + \\eta^n[c2[f_]])/df[f_])"
      ]
     },
     "metadata": {},
     "output_type": "display_data"
    },
    {
     "data": {
      "text/latex": [
       "$\\displaystyle {G^{n+1}}_{f} = \\frac{- {\\eta^{n+1}}_{{c_{1}}_{f}} + {\\eta^{n+1}}_{{c_{2}}_{f}}}{{df}_{f}}$"
      ],
      "text/plain": [
       "Eq(G^{n+1}[f_], (-\\eta^{n+1}[c1[f_]] + \\eta^{n+1}[c2[f_]])/df[f_])"
      ]
     },
     "execution_count": 471,
     "metadata": {},
     "output_type": "execute_result"
    }
   ],
   "source": [
    "# Define G operator\n",
    "# in 3D this would also include baroclinic, which would\n",
    "# be explicit\n",
    "eqG=Eq( G_fn[fw],\n",
    "        (eta_n[c2[fw]]-eta_n[c1[fw]])/df[fw])\n",
    "eqGn=eqG\n",
    "eqGnp1=eqG.subs(eta_n,eta_np1).subs(G_fn,G_fnp1)\n",
    "display(eqGn)\n",
    "eqGnp1"
   ]
  },
  {
   "cell_type": "code",
   "execution_count": 472,
   "metadata": {},
   "outputs": [
    {
     "data": {
      "text/latex": [
       "$\\displaystyle {A}_{c} {\\eta^{n+1}}_{c} = {A}_{c} {\\eta^n}_{c} - \\sum_{fi=0}^{{Nf}_{c} - 1} \\Delta t \\left(\\theta \\left(- \\Delta t g \\left(\\frac{\\theta \\left(- {\\eta^{n+1}}_{{c_{1}}_{{F}_{c,fi}}} + {\\eta^{n+1}}_{{c_{2}}_{{F}_{c,fi}}}\\right)}{{df}_{{F}_{c,fi}}} + \\frac{\\left(1 - \\theta\\right) \\left(- {\\eta^n}_{{c_{1}}_{{F}_{c,fi}}} + {\\eta^n}_{{c_{2}}_{{F}_{c,fi}}}\\right)}{{df}_{{F}_{c,fi}}}\\right) + {u^{n}}_{{F}_{c,fi}}\\right) + \\left(1 - \\theta\\right) {u^{n}}_{{F}_{c,fi}}\\right) {S}_{c,fi} {hf^{n}}_{{F}_{c,fi}} {l}_{{F}_{c,fi}}$"
      ],
      "text/plain": [
       "Eq(A[c]*\\eta^{n+1}[c], A[c]*\\eta^n[c] - Sum(\\Delta t*(\\theta*(-\\Delta t*g*(\\theta*(-\\eta^{n+1}[c1[F[c, fi]]] + \\eta^{n+1}[c2[F[c, fi]]])/df[F[c, fi]] + (1 - \\theta)*(-\\eta^n[c1[F[c, fi]]] + \\eta^n[c2[F[c, fi]]])/df[F[c, fi]]) + u^n[F[c, fi]]) + (1 - \\theta)*u^n[F[c, fi]])*S[c, fi]*hf^n[F[c, fi]]*l[F[c, fi]], (fi, 0, Nf[c] - 1)))"
      ]
     },
     "execution_count": 472,
     "metadata": {},
     "output_type": "execute_result"
    }
   ],
   "source": [
    "eq_comb2=eq_comb1.replace(eqGn.lhs,eqGn.rhs)\n",
    "eq_comb2=eq_comb2.replace(eqGnp1.lhs,eqGnp1.rhs)\n",
    "eq_comb2=eq_comb2.replace(a_fn[fw],0) # while testing, drop advection\n",
    "eq_comb2"
   ]
  },
  {
   "cell_type": "code",
   "execution_count": 475,
   "metadata": {},
   "outputs": [],
   "source": [
    "# Now make some of those concrete:\n",
    "\n",
    "# 3 cells in a row.\n",
    "# two faces.\n",
    "\n",
    "# Inputs:\n",
    "\n",
    "# Dimensions are handled separately because they can appear \n",
    "# as args for later symbols.\n",
    "dims={\n",
    "     N_f: 2, # global number of faces\n",
    "     N_c: 3, # global number of cells\n",
    "     Nf_max: 2, # maximum number of sides for a cell\n",
    "}\n",
    "\n",
    "inp={theta: 0.55,\n",
    "     dt: 1.0,\n",
    "     g: 9.8, # gravity\n",
    "     Nf_c:Array([1,2,1]), # number of sides for cell c\n",
    "     F:Array( [[0,-1], # F[c,i] the i'th face adjacent to cell c\n",
    "                [0,1],\n",
    "               [1,-1]]),  \n",
    "     C:Array( [ [0,1],[1,2]]), # TODO merge w/ c1,c2\n",
    "     S:Array( [[1,0], # S[c,i] sign of the normal of F[c,i] w.r.t. c's outward normal\n",
    "                [-1,1],\n",
    "                [-1,0]] ), \n",
    "     c1:Array( [0,1]), # 'upstream' cell for edge f\n",
    "     c2:Array( [1,2]), # 'downstream' cell for edge f\n",
    "     A_c:Array( [1.0,1.0,1.0]), # cell area\n",
    "     lf:Array( [1,1] ), # length of face f\n",
    "     b:Array( [0,0,0] ), # cell bed elevation\n",
    "     df:Array( [1.0,1.0]),\n",
    "     dfc:Array( [[0.5,oo],[0.5,0.5],[0.5,oo]]),\n",
    "     alpha:Array( [[0.5,0.5],\n",
    "                   [0.5,0.5]]),\n",
    "     nf:Matrix([[1.0,0], # Needs to be Matrix so it can be sliced.\n",
    "                [1.0,0]])\n",
    "    }\n",
    "\n",
    "# Some of the inputs are dimensions for the other inputs\n",
    "# update those symbolic dimensions with real dimensions now\n",
    "# otherwise the symbolic vs concrete dimensions prevent substitutions\n",
    "# from working.\n",
    "\n",
    "state={\n",
    "     # h_fn is computed # edge depth\n",
    "     # h_cn is computed # water column depth\n",
    "     eta_n: Array([1.1,1,1]),\n",
    "     # eta_np1 is computed \n",
    "\n",
    "     u_fn: Array([0.0,0.0]) # edge normal velocity\n",
    "     # u_fnp1 is computed \n",
    "     # a_fn is computed # advective term\n",
    "}\n",
    "\n",
    "def sub_all(expr,verbose=False):\n",
    "    # For something like F, which is defined with symbolic \n",
    "    # dimensions but is subject to substitution with\n",
    "    # concrete dimensions, need to allow for both.\n",
    "    # assume that all dimensions are known ahead of time, and\n",
    "    # occur at the start of defs, so any occurrence in expr \n",
    "    # will have concrete dimensions.\n",
    "    for defs in [dims,inp,state]:\n",
    "        for k in defs:\n",
    "            if k not in dims:\n",
    "                ks=k.subs(dims) # Everybody is concrete\n",
    "            else:\n",
    "                ks=k\n",
    "            # if k==expr: continue # ?\n",
    "            if verbose: print('subbing ',k)\n",
    "            #try:\n",
    "            expr=expr.subs(ks,defs[k])\n",
    "            #except Exception as exc:\n",
    "            #    print(\"Sub of %s failed\"%k)\n",
    "            if verbose: print(srepr(expr))\n",
    "    # eventually the parts that depend on state might be split off\n",
    "    return expr\n",
    "\n",
    "def sub_eq(expr,verbose=False):\n",
    "    return Eq(sub_all(expr.lhs,verbose=verbose),\n",
    "              sub_all(expr.rhs,verbose=verbose))"
   ]
  },
  {
   "cell_type": "code",
   "execution_count": 476,
   "metadata": {},
   "outputs": [],
   "source": [
    "# For composite types like Matrix that can have symbolic dimensions,\n",
    "# here compile synonyms with those dimensions made concrete.\n",
    "\n",
    "# syn={}\n",
    "\n",
    "# for s in [inp,state]:\n",
    "#     updates={}\n",
    "#     for k in s:\n",
    "#         if isinstance(k,MatrixSymbol):\n",
    "#             old_sym=k\n",
    "#             new_sym=MatrixSymbol(old_sym.args[0],*[Wild('w%d'%wi) for wi,w in enumerate(old_sym.args[1:])])\n",
    "#             updates[k]=new_sym\n",
    "#         elif isinstance(k,IndexedBase):\n",
    "#             old_sym=k\n",
    "#             new_sym=sub_all(old_sym)\n",
    "#             updates[k]=new_sym\n",
    "#     for k in updates:\n",
    "#         old=k\n",
    "#         new=updates[k]\n",
    "#         s[new]=s.pop(old)\n",
    "    "
   ]
  },
  {
   "cell_type": "code",
   "execution_count": 477,
   "metadata": {},
   "outputs": [
    {
     "data": {
      "text/latex": [
       "$\\displaystyle \\left[\\begin{matrix}1.1 & 1 & 1\\end{matrix}\\right]$"
      ],
      "text/plain": [
       "[1.10000000000000, 1, 1]"
      ]
     },
     "execution_count": 477,
     "metadata": {},
     "output_type": "execute_result"
    }
   ],
   "source": [
    "h_cn_real=Array( [sub_all(eq8b.rhs.subs(c,i)) for i in range(dims[N_c])])\n",
    "state[h_cn]=h_cn_real\n",
    "h_cn_real"
   ]
  },
  {
   "cell_type": "code",
   "execution_count": 478,
   "metadata": {},
   "outputs": [
    {
     "data": {
      "text/latex": [
       "$\\displaystyle \\left[\\begin{matrix}1.1 & 1\\end{matrix}\\right]$"
      ],
      "text/plain": [
       "[1.10000000000000, 1]"
      ]
     },
     "execution_count": 478,
     "metadata": {},
     "output_type": "execute_result"
    }
   ],
   "source": [
    "# Precalculate h_fn\n",
    "eq8_0=sub_all(eq8.rhs)\n",
    "h_fn_real=Array( [ eq8_0.subs(f,i) for i in range(dims[N_f])] )\n",
    "state[h_fn]=h_fn_real\n",
    "h_fn_real"
   ]
  },
  {
   "cell_type": "code",
   "execution_count": 479,
   "metadata": {
    "scrolled": true
   },
   "outputs": [
    {
     "data": {
      "text/latex": [
       "$\\displaystyle - 4.26095 {\\eta^{n+1}}_{0} + 3.26095 {\\eta^{n+1}}_{1} + 0.833195$"
      ],
      "text/plain": [
       "-4.26095*\\eta^{n+1}[0] + 3.26095*\\eta^{n+1}[1] + 0.833195"
      ]
     },
     "metadata": {},
     "output_type": "display_data"
    },
    {
     "data": {
      "text/latex": [
       "$\\displaystyle 3.26095 {\\eta^{n+1}}_{0} - 7.22545 {\\eta^{n+1}}_{1} + 2.9645 {\\eta^{n+1}}_{2} + 1.266805$"
      ],
      "text/plain": [
       "3.26095*\\eta^{n+1}[0] - 7.22545*\\eta^{n+1}[1] + 2.9645*\\eta^{n+1}[2] + 1.266805"
      ]
     },
     "metadata": {},
     "output_type": "display_data"
    },
    {
     "data": {
      "text/latex": [
       "$\\displaystyle 2.9645 {\\eta^{n+1}}_{1} - 3.9645 {\\eta^{n+1}}_{2} + 1.0$"
      ],
      "text/plain": [
       "2.9645*\\eta^{n+1}[1] - 3.9645*\\eta^{n+1}[2] + 1.0"
      ]
     },
     "metadata": {},
     "output_type": "display_data"
    }
   ],
   "source": [
    "# Note that if eta_np1 has already been computed, this\n",
    "# will evaluate to ~0 since the solution will get substituted\n",
    "# in.\n",
    "eq_real=sub_all(eq_comb2.rhs - eq_comb2.lhs)\n",
    "\n",
    "cell_eqs=[  eq_real.subs(c,i).doit()\n",
    "          for i in range(dims[N_c]) ]\n",
    "#cell_eqs=[ e.rhs-e.lhs for e in cell_eqs]\n",
    "unknowns=[eta_np1[i] for i in range(dims[N_c])]\n",
    "for e in cell_eqs:\n",
    "    display(e)"
   ]
  },
  {
   "cell_type": "code",
   "execution_count": 480,
   "metadata": {},
   "outputs": [
    {
     "data": {
      "text/latex": [
       "$\\displaystyle \\left[\\begin{matrix}1.00322743969429 & 1.05536943503132 & 1.0414031252744\\end{matrix}\\right]$"
      ],
      "text/plain": [
       "[1.00322743969429, 1.05536943503132, 1.04140312527440]"
      ]
     },
     "execution_count": 480,
     "metadata": {},
     "output_type": "execute_result"
    }
   ],
   "source": [
    "if eta_np1 not in state:\n",
    "    eta_set=linsolve(cell_eqs,unknowns)\n",
    "    eta_np1_real=Array(list(eta_set)[0])\n",
    "    state[eta_np1]=eta_np1_real\n",
    "else:\n",
    "    print(\"eta_np1 already computed\")\n",
    "state[eta_np1]"
   ]
  },
  {
   "cell_type": "code",
   "execution_count": 481,
   "metadata": {
    "scrolled": true
   },
   "outputs": [
    {
     "data": {
      "text/latex": [
       "$\\displaystyle \\left[\\begin{matrix}0.159954645133409 & 0.0752784095898098\\end{matrix}\\right]$"
      ],
      "text/plain": [
       "[0.159954645133409, 0.0752784095898098]"
      ]
     },
     "execution_count": 481,
     "metadata": {},
     "output_type": "execute_result"
    }
   ],
   "source": [
    "# And solve for velocity:\n",
    "eq5c=eq5b.replace(eqGn.lhs,eqGn.rhs).replace(eqGnp1.lhs,eqGnp1.rhs).replace(a_fn[fw],0)\n",
    "eq5d=sub_all(eq5c)\n",
    "\n",
    "u_fnp1_real=Array( [eq5d.rhs.subs(fw,i) for i in range(dims[N_f])] )\n",
    "state[u_fnp1]=u_fnp1_real\n",
    "u_fnp1_real"
   ]
  },
  {
   "cell_type": "markdown",
   "metadata": {},
   "source": [
    "Advection\n",
    "---\n"
   ]
  },
  {
   "cell_type": "code",
   "execution_count": 482,
   "metadata": {},
   "outputs": [
    {
     "data": {
      "text/latex": [
       "$\\displaystyle \\mathbf{u_*}_{c, 0} = \\sum_{fi=0}^{{Nf}_{c} - 1} \\left. \\frac{1}{{A}_{c}} {dfc}_{c,fi} \\frac{1}{{hc^{n}}_{c}} {hf^{n}}_{f} {l}_{f} {u^{n}}_{f} \\mathbf{n}\\left[f:f + 1, :\\right] \\right|_{\\substack{ f={F}_{c,fi} }}$"
      ],
      "text/plain": [
       "Eq(\\mathbf{u_*}[c, 0], Sum(Subs((dfc[c, fi]*hf^n[f]*l[f]*u^n[f]/(A[c]*hc^n[c]))*\\mathbf{n}[f:f + 1, :], f, F[c, fi]), (fi, 0, Nf[c] - 1)))"
      ]
     },
     "metadata": {},
     "output_type": "display_data"
    },
    {
     "data": {
      "text/latex": [
       "$\\displaystyle \\mathbf{u_*}_{c, 0} = \\sum_{fi=0}^{{Nf}_{c} - 1} \\left. \\frac{1}{{\\eta^n}_{c} - {b}_{c}} \\frac{1}{{A}_{c}} {dfc}_{c,fi} {hf^{n}}_{f} {l}_{f} {u^{n}}_{f} \\mathbf{n}\\left[f:f + 1, :\\right] \\right|_{\\substack{ f={F}_{c,fi} }}$"
      ],
      "text/plain": [
       "Eq(\\mathbf{u_*}[c, 0], Sum(Subs((dfc[c, fi]*hf^n[f]*l[f]*u^n[f]/((\\eta^n[c] - b[c])*A[c]))*\\mathbf{n}[f:f + 1, :], f, F[c, fi]), (fi, 0, Nf[c] - 1)))"
      ]
     },
     "metadata": {},
     "output_type": "display_data"
    }
   ],
   "source": [
    "# finally ucstar\n",
    "lhs=ucstar[c,0]\n",
    "#display(lhs)\n",
    "\n",
    "# Since we'll evaluate this, rather than use it for a substitution,\n",
    "# do *not* use wilds\n",
    "rhs=Sum(Subs(1/(A_c[c]*h_cn[c]) * h_fn[f]*lf[f] * u_fn[f] * nf[f,:] * dfc[c,fi],\n",
    "             f,F[c,fi]),\n",
    "       (fi,0,Nf_c[c]-1))\n",
    "#display(rhs)\n",
    "eq6=Eq(lhs,rhs,evaluate=False) # w/o evaluate=False, this simplifies to False\n",
    "display(eq6)\n",
    "\n",
    "# calculating actual ustar\n",
    "eq6a=eq6.subs(eq8b.lhs,eq8b.rhs)\n",
    "display(eq6a)"
   ]
  },
  {
   "cell_type": "code",
   "execution_count": 483,
   "metadata": {},
   "outputs": [
    {
     "data": {
      "text/latex": [
       "$\\displaystyle \\left[\\begin{matrix}0 & 0\\\\0 & 0\\\\0 & 0\\end{matrix}\\right]$"
      ],
      "text/plain": [
       "Matrix([\n",
       "[0, 0],\n",
       "[0, 0],\n",
       "[0, 0]])"
      ]
     },
     "execution_count": 483,
     "metadata": {},
     "output_type": "execute_result"
    }
   ],
   "source": [
    "eq6b=sub_eq(eq6a) \n",
    "\n",
    "ucstar_vectors=[eq6b.rhs.subs(c,i).doit() \n",
    "                for i in range(dims[N_c])]\n",
    "ucstar_n_real=Matrix( [ [c[0,0],c[0,1]] for c in ucstar_vectors] )\n",
    "\n",
    "state[ucstar]=ucstar_n_real\n",
    "ucstar_n_real"
   ]
  },
  {
   "cell_type": "code",
   "execution_count": 484,
   "metadata": {},
   "outputs": [
    {
     "data": {
      "text/latex": [
       "$\\displaystyle {\\overline{h}}_{j} = \\sum_{ci=0}^{1} {\\alpha}_{j,ci} {hc^{n}}_{{C}_{ci,j}}$"
      ],
      "text/plain": [
       "Eq(\\overline{h}[j], Sum(\\alpha[j, ci]*hc^n[C[ci, j]], (ci, 0, 1)))"
      ]
     },
     "execution_count": 484,
     "metadata": {},
     "output_type": "execute_result"
    }
   ],
   "source": [
    "eq_hbar = Eq( hbar[j], \n",
    "             Sum( alpha[j,ci] * h_cn[C[ci,j]],\n",
    "                   (ci,0,1)))\n",
    "eq_hbar"
   ]
  },
  {
   "cell_type": "code",
   "execution_count": 485,
   "metadata": {},
   "outputs": [
    {
     "data": {
      "text/latex": [
       "$\\displaystyle \\left[\\begin{matrix}1.05 & 1.0\\end{matrix}\\right]$"
      ],
      "text/plain": [
       "[1.05000000000000, 1.00000000000000]"
      ]
     },
     "execution_count": 485,
     "metadata": {},
     "output_type": "execute_result"
    }
   ],
   "source": [
    "# calculate hbar\n",
    "hbar_real = Array( [sub_all(eq_hbar.rhs.subs(j,jj)).doit()\n",
    "                    for jj in range(dims[N_f])])\n",
    "state[hbar]=hbar_real\n",
    "hbar_real"
   ]
  },
  {
   "cell_type": "code",
   "execution_count": 486,
   "metadata": {},
   "outputs": [
    {
     "data": {
      "text/latex": [
       "$\\displaystyle \\tilde{a}^n_{c, j} = \\sum_{fi=0}^{{Nf}_{c} - 1} \\left. \\frac{{S}_{fi,c} {hf^{n}}_{f} {l}_{f} {u^{n}}_{f} \\left(- {u^{n}}_{j} + \\mathbf{n}\\left[j:j + 1, :\\right] \\cdot \\mathbf{u^*}\\left[f:f + 1, :\\right]\\right)}{{A}_{c} {\\overline{h}}_{j}} \\right|_{\\substack{ f={F}_{fi,c} }}$"
      ],
      "text/plain": [
       "Eq(\\tilde{a}^n[c_, j_], Sum(Subs(S[fi, c_]*hf^n[f]*l[f]*u^n[f]*(-u^n[j_] + myDotP(\\mathbf{n}[j_:j_ + 1, :], \\mathbf{u^*}[f:f + 1, :]))/(A[c_]*\\overline{h}[j_]), f, F[fi, c_]), (fi, 0, Nf[c_] - 1)))"
      ]
     },
     "execution_count": 486,
     "metadata": {},
     "output_type": "execute_result"
    }
   ],
   "source": [
    "# Define the cell-centered part, then pull together the edge centered part.\n",
    "ac_n=MatrixSymbol(r'\\tilde{a}^n',N_c,N_f) # cell c advection w.r.t. face f\n",
    "\n",
    "# Since this is getting subbed into the edge equation below, write in\n",
    "# terms of wilds.\n",
    "eq18_cell = Eq( ac_n[cw,jw],\n",
    "    Sum( Subs(  ( myDotP(nf[jw,:], ufstar[f,:]) - u_fn[jw]) \n",
    "                 * h_fn[f] * lf[f] * S[fi,cw] * u_fn[f]\n",
    "                 /(A_c[cw] * hbar[jw]),\n",
    "              f,F[fi,cw]),\n",
    "        (fi,0,Nf_c[cw]-1)) )\n",
    "\n",
    "eq18_cell"
   ]
  },
  {
   "cell_type": "code",
   "execution_count": 487,
   "metadata": {},
   "outputs": [
    {
     "data": {
      "text/latex": [
       "$\\displaystyle {a^{n}}_{j} = \\sum_{ci=0}^{1} {\\alpha}_{j,ci} \\tilde{a}^n_{{C}_{j,ci}, j}$"
      ],
      "text/plain": [
       "Eq(a^n[j], Sum(\\alpha[j, ci]*\\tilde{a}^n[C[j, ci], j], (ci, 0, 1)))"
      ]
     },
     "execution_count": 487,
     "metadata": {},
     "output_type": "execute_result"
    }
   ],
   "source": [
    "eq18_face = Eq( a_fn[j],\n",
    "               Sum( alpha[j,ci] * ac_n[C[j,ci],j],\n",
    "                    (ci,0,1) ) )\n",
    "eq18_face"
   ]
  },
  {
   "cell_type": "code",
   "execution_count": 488,
   "metadata": {},
   "outputs": [
    {
     "data": {
      "text/latex": [
       "$\\displaystyle {a^{n}}_{j} = \\sum_{ci=0}^{1} {\\alpha}_{j,ci} \\sum_{fi=0}^{{Nf}_{{C}_{j,ci}} - 1} \\left. \\frac{{S}_{fi,{C}_{j,ci}} {hf^{n}}_{f} {l}_{f} {u^{n}}_{f} \\left(- {u^{n}}_{j} + \\mathbf{n}\\left[j:j + 1, :\\right] \\cdot \\mathbf{u^*}\\left[f:f + 1, :\\right]\\right)}{{A}_{{C}_{j,ci}} {\\overline{h}}_{j}} \\right|_{\\substack{ f={F}_{fi,{C}_{j,ci}} }}$"
      ],
      "text/plain": [
       "Eq(a^n[j], Sum(\\alpha[j, ci]*Sum(Subs(S[fi, C[j, ci]]*hf^n[f]*l[f]*u^n[f]*(-u^n[j] + myDotP(\\mathbf{n}[j:j + 1, :], \\mathbf{u^*}[f:f + 1, :]))/(A[C[j, ci]]*\\overline{h}[j]), f, F[fi, C[j, ci]]), (fi, 0, Nf[C[j, ci]] - 1)), (ci, 0, 1)))"
      ]
     },
     "execution_count": 488,
     "metadata": {},
     "output_type": "execute_result"
    }
   ],
   "source": [
    "eq18b=eq18_face.replace(eq18_cell.lhs, eq18_cell.rhs)\n",
    "eq18b"
   ]
  },
  {
   "cell_type": "code",
   "execution_count": 489,
   "metadata": {},
   "outputs": [
    {
     "data": {
      "text/latex": [
       "$\\displaystyle \\mathbf{n}\\left[j_{a}:j_{a} + 1, :\\right] \\cdot \\mathbf{u^*}\\left[f_{a}:f_{a} + 1, :\\right] = \\begin{cases} {u^{n}}_{j_{a}} & \\text{for}\\: \\left({c_{1}}_{f_{a}} = {c_{1}}_{j_{a}} \\vee {c_{1}}_{f_{a}} = {c_{2}}_{j_{a}} \\vee {u^{n}}_{f_{a}} \\leq 0\\right) \\wedge \\left({c_{1}}_{j_{a}} = {c_{2}}_{f_{a}} \\vee {c_{2}}_{f_{a}} = {c_{2}}_{j_{a}} \\vee {u^{n}}_{f_{a}} > 0\\right) \\wedge \\left({c_{1}}_{f_{a}} = {c_{1}}_{j_{a}} \\vee {c_{1}}_{f_{a}} = {c_{2}}_{j_{a}} \\vee {c_{1}}_{j_{a}} = {c_{2}}_{f_{a}} \\vee {c_{2}}_{f_{a}} = {c_{2}}_{j_{a}}\\right) \\\\\\mathbf{n}\\left[j_{a}:j_{a} + 1, :\\right] \\cdot \\mathbf{u_*}\\left[{c_{1}}_{f_{a}}:{c_{1}}_{f_{a}} + 1, :\\right] & \\text{for}\\: {u^{n}}_{f_{a}} > 0 \\\\\\mathbf{n}\\left[j_{a}:j_{a} + 1, :\\right] \\cdot \\mathbf{u_*}\\left[{c_{2}}_{f_{a}}:{c_{2}}_{f_{a}} + 1, :\\right] & \\text{otherwise} \\end{cases}$"
      ],
      "text/plain": [
       "Eq(myDotP(\\mathbf{n}[j_a_:j_a_ + 1, :], \\mathbf{u^*}[f_a_:f_a_ + 1, :]), Piecewise((u^n[j_a_], ((u^n[f_a_] <= 0) | Eq(c1[f_a_], c1[j_a_]) | Eq(c1[f_a_], c2[j_a_])) & ((u^n[f_a_] > 0) | Eq(c1[j_a_], c2[f_a_]) | Eq(c2[f_a_], c2[j_a_])) & (Eq(c1[f_a_], c1[j_a_]) | Eq(c1[f_a_], c2[j_a_]) | Eq(c1[j_a_], c2[f_a_]) | Eq(c2[f_a_], c2[j_a_]))), (myDotP(\\mathbf{n}[j_a_:j_a_ + 1, :], \\mathbf{u_*}[c1[f_a_]:c1[f_a_] + 1, :]), u^n[f_a_] > 0), (myDotP(\\mathbf{n}[j_a_:j_a_ + 1, :], \\mathbf{u_*}[c2[f_a_]:c2[f_a_] + 1, :]), True)))"
      ]
     },
     "execution_count": 489,
     "metadata": {},
     "output_type": "execute_result"
    }
   ],
   "source": [
    "# and ustar...\n",
    "#\n",
    "# gets a little dirty -- u* . n == uj when \n",
    "# if the upwind cell of f is the cell containing j\n",
    "# in that case the flow is out of the 2-cell CV of\n",
    "# j\n",
    "\n",
    "# This does not get precomputed, but instead substituted,\n",
    "# so use wilds\n",
    "ja=Wild('j_a')\n",
    "fa=Wild('f_a')\n",
    "\n",
    "lhs=myDotP(nf[ja,:],ufstar[fa,:])\n",
    "\n",
    "rhs=Piecewise( \n",
    "    (u_fn[ja], And(u_fn[fa]>0,Or(Eq(c1[fa],c1[ja]),\n",
    "                               Eq(c1[fa],c2[ja])))),\n",
    "    (u_fn[ja], And(u_fn[fa]<=0,Or(Eq(c2[fa],c1[ja]),\n",
    "                                Eq(c2[fa],c2[ja])))),\n",
    "    (myDotP(nf[ja,:],ucstar[c1[fa],:]),  u_fn[fa]>0),\n",
    "    (myDotP(nf[ja,:],ucstar[c2[fa],:]),  True) )\n",
    "\n",
    "eq_ufstar=Eq(lhs,rhs,evaluate=False)\n",
    "eq_ufstar"
   ]
  },
  {
   "cell_type": "code",
   "execution_count": 490,
   "metadata": {},
   "outputs": [
    {
     "data": {
      "text/latex": [
       "$\\displaystyle {a^{n}}_{j} = \\sum_{ci=0}^{1} {\\alpha}_{j,ci} \\sum_{fi=0}^{{Nf}_{{C}_{j,ci}} - 1} \\left. \\frac{{S}_{fi,{C}_{j,ci}} {hf^{n}}_{f} {l}_{f} {u^{n}}_{f} \\left(- {u^{n}}_{j} + \\begin{cases} {u^{n}}_{j} & \\text{for}\\: \\left({c_{1}}_{f} = {c_{1}}_{j} \\vee {c_{1}}_{f} = {c_{2}}_{j} \\vee {u^{n}}_{f} \\leq 0\\right) \\wedge \\left({c_{1}}_{j} = {c_{2}}_{f} \\vee {c_{2}}_{f} = {c_{2}}_{j} \\vee {u^{n}}_{f} > 0\\right) \\wedge \\left({c_{1}}_{f} = {c_{1}}_{j} \\vee {c_{1}}_{f} = {c_{2}}_{j} \\vee {c_{1}}_{j} = {c_{2}}_{f} \\vee {c_{2}}_{f} = {c_{2}}_{j}\\right) \\\\\\mathbf{n}\\left[j:j + 1, :\\right] \\cdot \\mathbf{u_*}\\left[{c_{1}}_{f}:{c_{1}}_{f} + 1, :\\right] & \\text{for}\\: {u^{n}}_{f} > 0 \\\\\\mathbf{n}\\left[j:j + 1, :\\right] \\cdot \\mathbf{u_*}\\left[{c_{2}}_{f}:{c_{2}}_{f} + 1, :\\right] & \\text{otherwise} \\end{cases}\\right)}{{A}_{{C}_{j,ci}} {\\overline{h}}_{j}} \\right|_{\\substack{ f={F}_{fi,{C}_{j,ci}} }}$"
      ],
      "text/plain": [
       "Eq(a^n[j], Sum(\\alpha[j, ci]*Sum(Subs(S[fi, C[j, ci]]*hf^n[f]*l[f]*u^n[f]*(-u^n[j] + Piecewise((u^n[j], ((u^n[f] <= 0) | Eq(c1[f], c1[j]) | Eq(c1[f], c2[j])) & ((u^n[f] > 0) | Eq(c1[j], c2[f]) | Eq(c2[f], c2[j])) & (Eq(c1[f], c1[j]) | Eq(c1[f], c2[j]) | Eq(c1[j], c2[f]) | Eq(c2[f], c2[j]))), (myDotP(\\mathbf{n}[j:j + 1, :], \\mathbf{u_*}[c1[f]:c1[f] + 1, :]), u^n[f] > 0), (myDotP(\\mathbf{n}[j:j + 1, :], \\mathbf{u_*}[c2[f]:c2[f] + 1, :]), True)))/(A[C[j, ci]]*\\overline{h}[j]), f, F[fi, C[j, ci]]), (fi, 0, Nf[C[j, ci]] - 1)), (ci, 0, 1)))"
      ]
     },
     "execution_count": 490,
     "metadata": {},
     "output_type": "execute_result"
    }
   ],
   "source": [
    "eq18c=eq18b.replace(eq_ufstar.lhs,eq_ufstar.rhs)\n",
    "eq18c"
   ]
  },
  {
   "cell_type": "code",
   "execution_count": 491,
   "metadata": {},
   "outputs": [
    {
     "data": {
      "text/latex": [
       "$\\displaystyle {a^{n}}_{j} = \\sum_{ci=0}^{1} {\\left[\\begin{matrix}0.5 & 0.5\\\\0.5 & 0.5\\end{matrix}\\right]}_{j,ci} \\sum_{fi=0}^{{\\left[\\begin{matrix}1 & 2 & 1\\end{matrix}\\right]}_{{\\left[\\begin{matrix}0 & 1\\\\1 & 2\\end{matrix}\\right]}_{j,ci}} - 1} \\left. \\frac{{\\left[\\begin{matrix}0.0 & 0.0\\end{matrix}\\right]}_{f} {\\left[\\begin{matrix}1 & 1\\end{matrix}\\right]}_{f} {\\left[\\begin{matrix}1.1 & 1\\end{matrix}\\right]}_{f} {\\left[\\begin{matrix}1 & 0\\\\-1 & 1\\\\-1 & 0\\end{matrix}\\right]}_{fi,{\\left[\\begin{matrix}0 & 1\\\\1 & 2\\end{matrix}\\right]}_{j,ci}} \\left(- {\\left[\\begin{matrix}0.0 & 0.0\\end{matrix}\\right]}_{j} + \\begin{cases} {\\left[\\begin{matrix}0.0 & 0.0\\end{matrix}\\right]}_{j} & \\text{for}\\: \\left({\\left[\\begin{matrix}0 & 1\\end{matrix}\\right]}_{f} = {\\left[\\begin{matrix}0 & 1\\end{matrix}\\right]}_{j} \\vee {\\left[\\begin{matrix}0 & 1\\end{matrix}\\right]}_{f} = {\\left[\\begin{matrix}1 & 2\\end{matrix}\\right]}_{j} \\vee {\\left[\\begin{matrix}0.0 & 0.0\\end{matrix}\\right]}_{f} \\leq 0\\right) \\wedge \\left({\\left[\\begin{matrix}0 & 1\\end{matrix}\\right]}_{j} = {\\left[\\begin{matrix}1 & 2\\end{matrix}\\right]}_{f} \\vee {\\left[\\begin{matrix}1 & 2\\end{matrix}\\right]}_{f} = {\\left[\\begin{matrix}1 & 2\\end{matrix}\\right]}_{j} \\vee {\\left[\\begin{matrix}0.0 & 0.0\\end{matrix}\\right]}_{f} > 0\\right) \\wedge \\left({\\left[\\begin{matrix}0 & 1\\end{matrix}\\right]}_{f} = {\\left[\\begin{matrix}0 & 1\\end{matrix}\\right]}_{j} \\vee {\\left[\\begin{matrix}0 & 1\\end{matrix}\\right]}_{f} = {\\left[\\begin{matrix}1 & 2\\end{matrix}\\right]}_{j} \\vee {\\left[\\begin{matrix}0 & 1\\end{matrix}\\right]}_{j} = {\\left[\\begin{matrix}1 & 2\\end{matrix}\\right]}_{f} \\vee {\\left[\\begin{matrix}1 & 2\\end{matrix}\\right]}_{f} = {\\left[\\begin{matrix}1 & 2\\end{matrix}\\right]}_{j}\\right) \\\\\\left[\\begin{matrix}1.0 & 0\\\\1.0 & 0\\end{matrix}\\right]\\left[j:j + 1, :\\right] \\cdot \\left[\\begin{matrix}0 & 0\\\\0 & 0\\\\0 & 0\\end{matrix}\\right]\\left[{\\left[\\begin{matrix}0 & 1\\end{matrix}\\right]}_{f}:{\\left[\\begin{matrix}0 & 1\\end{matrix}\\right]}_{f} + 1, :\\right] & \\text{for}\\: {\\left[\\begin{matrix}0.0 & 0.0\\end{matrix}\\right]}_{f} > 0 \\\\\\left[\\begin{matrix}1.0 & 0\\\\1.0 & 0\\end{matrix}\\right]\\left[j:j + 1, :\\right] \\cdot \\left[\\begin{matrix}0 & 0\\\\0 & 0\\\\0 & 0\\end{matrix}\\right]\\left[{\\left[\\begin{matrix}1 & 2\\end{matrix}\\right]}_{f}:{\\left[\\begin{matrix}1 & 2\\end{matrix}\\right]}_{f} + 1, :\\right] & \\text{otherwise} \\end{cases}\\right)}{{\\left[\\begin{matrix}1.0 & 1.0 & 1.0\\end{matrix}\\right]}_{{\\left[\\begin{matrix}0 & 1\\\\1 & 2\\end{matrix}\\right]}_{j,ci}} {\\left[\\begin{matrix}1.05 & 1.0\\end{matrix}\\right]}_{j}} \\right|_{\\substack{ f={\\left[\\begin{matrix}0 & -1\\\\0 & 1\\\\1 & -1\\end{matrix}\\right]}_{fi,{\\left[\\begin{matrix}0 & 1\\\\1 & 2\\end{matrix}\\right]}_{j,ci}} }}$"
      ],
      "text/plain": [
       "Eq(a^n[j], Sum([[0.500000000000000, 0.500000000000000], [0.500000000000000, 0.500000000000000]][j, ci]*Sum(Subs([0.0, 0.0][f]*[1, 1][f]*[1.10000000000000, 1][f]*[[1, 0], [-1, 1], [-1, 0]][fi, [[0, 1], [1, 2]][j, ci]]*(-[0.0, 0.0][j] + Piecewise(([0.0, 0.0][j], (([0.0, 0.0][f] <= 0) | Eq([0, 1][f], [0, 1][j]) | Eq([0, 1][f], [1, 2][j])) & (([0.0, 0.0][f] > 0) | Eq([0, 1][j], [1, 2][f]) | Eq([1, 2][f], [1, 2][j])) & (Eq([0, 1][f], [0, 1][j]) | Eq([0, 1][f], [1, 2][j]) | Eq([0, 1][j], [1, 2][f]) | Eq([1, 2][f], [1, 2][j]))), (myDotP(Matrix([\n",
       "[1.0, 0],\n",
       "[1.0, 0]])[j:j + 1, :], Matrix([\n",
       "[0, 0],\n",
       "[0, 0],\n",
       "[0, 0]])[[0, 1][f]:[0, 1][f] + 1, :]), [0.0, 0.0][f] > 0), (myDotP(Matrix([\n",
       "[1.0, 0],\n",
       "[1.0, 0]])[j:j + 1, :], Matrix([\n",
       "[0, 0],\n",
       "[0, 0],\n",
       "[0, 0]])[[1, 2][f]:[1, 2][f] + 1, :]), True)))/([1.00000000000000, 1.00000000000000, 1.00000000000000][[[0, 1], [1, 2]][j, ci]]*[1.05000000000000, 1.00000000000000][j]), f, [[0, -1], [0, 1], [1, -1]][fi, [[0, 1], [1, 2]][j, ci]]), (fi, 0, [1, 2, 1][[[0, 1], [1, 2]][j, ci]] - 1)), (ci, 0, 1)))"
      ]
     },
     "execution_count": 491,
     "metadata": {},
     "output_type": "execute_result"
    }
   ],
   "source": [
    "eq18d=sub_eq(eq18c)\n",
    "\n",
    "eq18d"
   ]
  },
  {
   "cell_type": "code",
   "execution_count": 494,
   "metadata": {},
   "outputs": [
    {
     "data": {
      "text/latex": [
       "$\\displaystyle {a^{n}}_{0} = \\sum_{ci=0}^{1} {\\left[\\begin{matrix}0.5 & 0.5\\\\0.5 & 0.5\\end{matrix}\\right]}_{0,ci} \\sum_{fi=0}^{{\\left[\\begin{matrix}1 & 2 & 1\\end{matrix}\\right]}_{{\\left[\\begin{matrix}0 & 1\\\\1 & 2\\end{matrix}\\right]}_{0,ci}} - 1} \\left. \\frac{0.952380952380952 {\\left[\\begin{matrix}0.0 & 0.0\\end{matrix}\\right]}_{f} {\\left[\\begin{matrix}1 & 1\\end{matrix}\\right]}_{f} {\\left[\\begin{matrix}1.1 & 1\\end{matrix}\\right]}_{f} {\\left[\\begin{matrix}1 & 0\\\\-1 & 1\\\\-1 & 0\\end{matrix}\\right]}_{fi,{\\left[\\begin{matrix}0 & 1\\\\1 & 2\\end{matrix}\\right]}_{0,ci}} \\left(\\begin{cases} 0.0 & \\text{for}\\: \\left({\\left[\\begin{matrix}0 & 1\\end{matrix}\\right]}_{f} = 0 \\vee {\\left[\\begin{matrix}0 & 1\\end{matrix}\\right]}_{f} = 1 \\vee {\\left[\\begin{matrix}0.0 & 0.0\\end{matrix}\\right]}_{f} \\leq 0\\right) \\wedge \\left({\\left[\\begin{matrix}1 & 2\\end{matrix}\\right]}_{f} = 0 \\vee {\\left[\\begin{matrix}1 & 2\\end{matrix}\\right]}_{f} = 1 \\vee {\\left[\\begin{matrix}0.0 & 0.0\\end{matrix}\\right]}_{f} > 0\\right) \\wedge \\left({\\left[\\begin{matrix}0 & 1\\end{matrix}\\right]}_{f} = 0 \\vee {\\left[\\begin{matrix}0 & 1\\end{matrix}\\right]}_{f} = 1 \\vee {\\left[\\begin{matrix}1 & 2\\end{matrix}\\right]}_{f} = 0 \\vee {\\left[\\begin{matrix}1 & 2\\end{matrix}\\right]}_{f} = 1\\right) \\\\\\left[\\begin{matrix}1.0 & 0\\\\1.0 & 0\\end{matrix}\\right]\\left[:1, :\\right] \\cdot \\left[\\begin{matrix}0 & 0\\\\0 & 0\\\\0 & 0\\end{matrix}\\right]\\left[{\\left[\\begin{matrix}0 & 1\\end{matrix}\\right]}_{f}:{\\left[\\begin{matrix}0 & 1\\end{matrix}\\right]}_{f} + 1, :\\right] & \\text{for}\\: {\\left[\\begin{matrix}0.0 & 0.0\\end{matrix}\\right]}_{f} > 0 \\\\\\left[\\begin{matrix}1.0 & 0\\\\1.0 & 0\\end{matrix}\\right]\\left[:1, :\\right] \\cdot \\left[\\begin{matrix}0 & 0\\\\0 & 0\\\\0 & 0\\end{matrix}\\right]\\left[{\\left[\\begin{matrix}1 & 2\\end{matrix}\\right]}_{f}:{\\left[\\begin{matrix}1 & 2\\end{matrix}\\right]}_{f} + 1, :\\right] & \\text{otherwise} \\end{cases}\\right)}{{\\left[\\begin{matrix}1.0 & 1.0 & 1.0\\end{matrix}\\right]}_{{\\left[\\begin{matrix}0 & 1\\\\1 & 2\\end{matrix}\\right]}_{0,ci}}} \\right|_{\\substack{ f={\\left[\\begin{matrix}0 & -1\\\\0 & 1\\\\1 & -1\\end{matrix}\\right]}_{fi,{\\left[\\begin{matrix}0 & 1\\\\1 & 2\\end{matrix}\\right]}_{0,ci}} }}$"
      ],
      "text/plain": [
       "Eq(a^n[0], Sum([[0.500000000000000, 0.500000000000000], [0.500000000000000, 0.500000000000000]][0, ci]*Sum(Subs(0.952380952380952*[0.0, 0.0][f]*[1, 1][f]*[1.10000000000000, 1][f]*[[1, 0], [-1, 1], [-1, 0]][fi, [[0, 1], [1, 2]][0, ci]]*Piecewise((0.0, (Eq([0, 1][f], 0) | Eq([0, 1][f], 1) | ([0.0, 0.0][f] <= 0)) & (Eq([1, 2][f], 0) | Eq([1, 2][f], 1) | ([0.0, 0.0][f] > 0)) & (Eq([0, 1][f], 0) | Eq([0, 1][f], 1) | Eq([1, 2][f], 0) | Eq([1, 2][f], 1))), (myDotP(Matrix([\n",
       "[1.0, 0],\n",
       "[1.0, 0]])[:1, :], Matrix([\n",
       "[0, 0],\n",
       "[0, 0],\n",
       "[0, 0]])[[0, 1][f]:[0, 1][f] + 1, :]), [0.0, 0.0][f] > 0), (myDotP(Matrix([\n",
       "[1.0, 0],\n",
       "[1.0, 0]])[:1, :], Matrix([\n",
       "[0, 0],\n",
       "[0, 0],\n",
       "[0, 0]])[[1, 2][f]:[1, 2][f] + 1, :]), True))/[1.00000000000000, 1.00000000000000, 1.00000000000000][[[0, 1], [1, 2]][0, ci]], f, [[0, -1], [0, 1], [1, -1]][fi, [[0, 1], [1, 2]][0, ci]]), (fi, 0, [1, 2, 1][[[0, 1], [1, 2]][0, ci]] - 1)), (ci, 0, 1)))"
      ]
     },
     "execution_count": 494,
     "metadata": {},
     "output_type": "execute_result"
    }
   ],
   "source": [
    "e1=eq18d.subs(j,0)\n",
    "e1"
   ]
  },
  {
   "cell_type": "code",
   "execution_count": 495,
   "metadata": {},
   "outputs": [
    {
     "ename": "AttributeError",
     "evalue": "'NoneType' object has no attribute 'groups'",
     "output_type": "error",
     "traceback": [
      "\u001b[0;31m---------------------------------------------------------------------------\u001b[0m",
      "\u001b[0;31mAttributeError\u001b[0m                            Traceback (most recent call last)",
      "\u001b[0;32m<ipython-input-495-62a10caec7cc>\u001b[0m in \u001b[0;36m<module>\u001b[0;34m\u001b[0m\n\u001b[0;32m----> 1\u001b[0;31m \u001b[0me1\u001b[0m\u001b[0;34m.\u001b[0m\u001b[0mdoit\u001b[0m\u001b[0;34m(\u001b[0m\u001b[0;34m)\u001b[0m\u001b[0;34m\u001b[0m\u001b[0;34m\u001b[0m\u001b[0m\n\u001b[0m",
      "\u001b[0;32m~/miniconda3/envs/general/lib/python3.7/site-packages/sympy/core/basic.py\u001b[0m in \u001b[0;36mdoit\u001b[0;34m(self, **hints)\u001b[0m\n\u001b[1;32m   1665\u001b[0m         \u001b[0;32mif\u001b[0m \u001b[0mhints\u001b[0m\u001b[0;34m.\u001b[0m\u001b[0mget\u001b[0m\u001b[0;34m(\u001b[0m\u001b[0;34m'deep'\u001b[0m\u001b[0;34m,\u001b[0m \u001b[0;32mTrue\u001b[0m\u001b[0;34m)\u001b[0m\u001b[0;34m:\u001b[0m\u001b[0;34m\u001b[0m\u001b[0;34m\u001b[0m\u001b[0m\n\u001b[1;32m   1666\u001b[0m             terms = [term.doit(**hints) if isinstance(term, Basic) else term\n\u001b[0;32m-> 1667\u001b[0;31m                                          for term in self.args]\n\u001b[0m\u001b[1;32m   1668\u001b[0m             \u001b[0;32mreturn\u001b[0m \u001b[0mself\u001b[0m\u001b[0;34m.\u001b[0m\u001b[0mfunc\u001b[0m\u001b[0;34m(\u001b[0m\u001b[0;34m*\u001b[0m\u001b[0mterms\u001b[0m\u001b[0;34m)\u001b[0m\u001b[0;34m\u001b[0m\u001b[0;34m\u001b[0m\u001b[0m\n\u001b[1;32m   1669\u001b[0m         \u001b[0;32melse\u001b[0m\u001b[0;34m:\u001b[0m\u001b[0;34m\u001b[0m\u001b[0;34m\u001b[0m\u001b[0m\n",
      "\u001b[0;32m~/miniconda3/envs/general/lib/python3.7/site-packages/sympy/core/basic.py\u001b[0m in \u001b[0;36m<listcomp>\u001b[0;34m(.0)\u001b[0m\n\u001b[1;32m   1665\u001b[0m         \u001b[0;32mif\u001b[0m \u001b[0mhints\u001b[0m\u001b[0;34m.\u001b[0m\u001b[0mget\u001b[0m\u001b[0;34m(\u001b[0m\u001b[0;34m'deep'\u001b[0m\u001b[0;34m,\u001b[0m \u001b[0;32mTrue\u001b[0m\u001b[0;34m)\u001b[0m\u001b[0;34m:\u001b[0m\u001b[0;34m\u001b[0m\u001b[0;34m\u001b[0m\u001b[0m\n\u001b[1;32m   1666\u001b[0m             terms = [term.doit(**hints) if isinstance(term, Basic) else term\n\u001b[0;32m-> 1667\u001b[0;31m                                          for term in self.args]\n\u001b[0m\u001b[1;32m   1668\u001b[0m             \u001b[0;32mreturn\u001b[0m \u001b[0mself\u001b[0m\u001b[0;34m.\u001b[0m\u001b[0mfunc\u001b[0m\u001b[0;34m(\u001b[0m\u001b[0;34m*\u001b[0m\u001b[0mterms\u001b[0m\u001b[0;34m)\u001b[0m\u001b[0;34m\u001b[0m\u001b[0;34m\u001b[0m\u001b[0m\n\u001b[1;32m   1669\u001b[0m         \u001b[0;32melse\u001b[0m\u001b[0;34m:\u001b[0m\u001b[0;34m\u001b[0m\u001b[0;34m\u001b[0m\u001b[0m\n",
      "\u001b[0;32m~/miniconda3/envs/general/lib/python3.7/site-packages/sympy/concrete/summations.py\u001b[0m in \u001b[0;36mdoit\u001b[0;34m(self, **hints)\u001b[0m\n\u001b[1;32m    191\u001b[0m     \u001b[0;32mdef\u001b[0m \u001b[0mdoit\u001b[0m\u001b[0;34m(\u001b[0m\u001b[0mself\u001b[0m\u001b[0;34m,\u001b[0m \u001b[0;34m**\u001b[0m\u001b[0mhints\u001b[0m\u001b[0;34m)\u001b[0m\u001b[0;34m:\u001b[0m\u001b[0;34m\u001b[0m\u001b[0;34m\u001b[0m\u001b[0m\n\u001b[1;32m    192\u001b[0m         \u001b[0;32mif\u001b[0m \u001b[0mhints\u001b[0m\u001b[0;34m.\u001b[0m\u001b[0mget\u001b[0m\u001b[0;34m(\u001b[0m\u001b[0;34m'deep'\u001b[0m\u001b[0;34m,\u001b[0m \u001b[0;32mTrue\u001b[0m\u001b[0;34m)\u001b[0m\u001b[0;34m:\u001b[0m\u001b[0;34m\u001b[0m\u001b[0;34m\u001b[0m\u001b[0m\n\u001b[0;32m--> 193\u001b[0;31m             \u001b[0mf\u001b[0m \u001b[0;34m=\u001b[0m \u001b[0mself\u001b[0m\u001b[0;34m.\u001b[0m\u001b[0mfunction\u001b[0m\u001b[0;34m.\u001b[0m\u001b[0mdoit\u001b[0m\u001b[0;34m(\u001b[0m\u001b[0;34m**\u001b[0m\u001b[0mhints\u001b[0m\u001b[0;34m)\u001b[0m\u001b[0;34m\u001b[0m\u001b[0;34m\u001b[0m\u001b[0m\n\u001b[0m\u001b[1;32m    194\u001b[0m         \u001b[0;32melse\u001b[0m\u001b[0;34m:\u001b[0m\u001b[0;34m\u001b[0m\u001b[0;34m\u001b[0m\u001b[0m\n\u001b[1;32m    195\u001b[0m             \u001b[0mf\u001b[0m \u001b[0;34m=\u001b[0m \u001b[0mself\u001b[0m\u001b[0;34m.\u001b[0m\u001b[0mfunction\u001b[0m\u001b[0;34m\u001b[0m\u001b[0;34m\u001b[0m\u001b[0m\n",
      "\u001b[0;32m~/miniconda3/envs/general/lib/python3.7/site-packages/sympy/core/operations.py\u001b[0m in \u001b[0;36mdoit\u001b[0;34m(self, **hints)\u001b[0m\n\u001b[1;32m    376\u001b[0m     \u001b[0;32mdef\u001b[0m \u001b[0mdoit\u001b[0m\u001b[0;34m(\u001b[0m\u001b[0mself\u001b[0m\u001b[0;34m,\u001b[0m \u001b[0;34m**\u001b[0m\u001b[0mhints\u001b[0m\u001b[0;34m)\u001b[0m\u001b[0;34m:\u001b[0m\u001b[0;34m\u001b[0m\u001b[0;34m\u001b[0m\u001b[0m\n\u001b[1;32m    377\u001b[0m         \u001b[0;32mif\u001b[0m \u001b[0mhints\u001b[0m\u001b[0;34m.\u001b[0m\u001b[0mget\u001b[0m\u001b[0;34m(\u001b[0m\u001b[0;34m'deep'\u001b[0m\u001b[0;34m,\u001b[0m \u001b[0;32mTrue\u001b[0m\u001b[0;34m)\u001b[0m\u001b[0;34m:\u001b[0m\u001b[0;34m\u001b[0m\u001b[0;34m\u001b[0m\u001b[0m\n\u001b[0;32m--> 378\u001b[0;31m             \u001b[0mterms\u001b[0m \u001b[0;34m=\u001b[0m \u001b[0;34m[\u001b[0m\u001b[0mterm\u001b[0m\u001b[0;34m.\u001b[0m\u001b[0mdoit\u001b[0m\u001b[0;34m(\u001b[0m\u001b[0;34m**\u001b[0m\u001b[0mhints\u001b[0m\u001b[0;34m)\u001b[0m \u001b[0;32mfor\u001b[0m \u001b[0mterm\u001b[0m \u001b[0;32min\u001b[0m \u001b[0mself\u001b[0m\u001b[0;34m.\u001b[0m\u001b[0margs\u001b[0m\u001b[0;34m]\u001b[0m\u001b[0;34m\u001b[0m\u001b[0;34m\u001b[0m\u001b[0m\n\u001b[0m\u001b[1;32m    379\u001b[0m         \u001b[0;32melse\u001b[0m\u001b[0;34m:\u001b[0m\u001b[0;34m\u001b[0m\u001b[0;34m\u001b[0m\u001b[0m\n\u001b[1;32m    380\u001b[0m             \u001b[0mterms\u001b[0m \u001b[0;34m=\u001b[0m \u001b[0mself\u001b[0m\u001b[0;34m.\u001b[0m\u001b[0margs\u001b[0m\u001b[0;34m\u001b[0m\u001b[0;34m\u001b[0m\u001b[0m\n",
      "\u001b[0;32m~/miniconda3/envs/general/lib/python3.7/site-packages/sympy/core/operations.py\u001b[0m in \u001b[0;36m<listcomp>\u001b[0;34m(.0)\u001b[0m\n\u001b[1;32m    376\u001b[0m     \u001b[0;32mdef\u001b[0m \u001b[0mdoit\u001b[0m\u001b[0;34m(\u001b[0m\u001b[0mself\u001b[0m\u001b[0;34m,\u001b[0m \u001b[0;34m**\u001b[0m\u001b[0mhints\u001b[0m\u001b[0;34m)\u001b[0m\u001b[0;34m:\u001b[0m\u001b[0;34m\u001b[0m\u001b[0;34m\u001b[0m\u001b[0m\n\u001b[1;32m    377\u001b[0m         \u001b[0;32mif\u001b[0m \u001b[0mhints\u001b[0m\u001b[0;34m.\u001b[0m\u001b[0mget\u001b[0m\u001b[0;34m(\u001b[0m\u001b[0;34m'deep'\u001b[0m\u001b[0;34m,\u001b[0m \u001b[0;32mTrue\u001b[0m\u001b[0;34m)\u001b[0m\u001b[0;34m:\u001b[0m\u001b[0;34m\u001b[0m\u001b[0;34m\u001b[0m\u001b[0m\n\u001b[0;32m--> 378\u001b[0;31m             \u001b[0mterms\u001b[0m \u001b[0;34m=\u001b[0m \u001b[0;34m[\u001b[0m\u001b[0mterm\u001b[0m\u001b[0;34m.\u001b[0m\u001b[0mdoit\u001b[0m\u001b[0;34m(\u001b[0m\u001b[0;34m**\u001b[0m\u001b[0mhints\u001b[0m\u001b[0;34m)\u001b[0m \u001b[0;32mfor\u001b[0m \u001b[0mterm\u001b[0m \u001b[0;32min\u001b[0m \u001b[0mself\u001b[0m\u001b[0;34m.\u001b[0m\u001b[0margs\u001b[0m\u001b[0;34m]\u001b[0m\u001b[0;34m\u001b[0m\u001b[0;34m\u001b[0m\u001b[0m\n\u001b[0m\u001b[1;32m    379\u001b[0m         \u001b[0;32melse\u001b[0m\u001b[0;34m:\u001b[0m\u001b[0;34m\u001b[0m\u001b[0;34m\u001b[0m\u001b[0m\n\u001b[1;32m    380\u001b[0m             \u001b[0mterms\u001b[0m \u001b[0;34m=\u001b[0m \u001b[0mself\u001b[0m\u001b[0;34m.\u001b[0m\u001b[0margs\u001b[0m\u001b[0;34m\u001b[0m\u001b[0;34m\u001b[0m\u001b[0m\n",
      "\u001b[0;32m~/miniconda3/envs/general/lib/python3.7/site-packages/sympy/concrete/summations.py\u001b[0m in \u001b[0;36mdoit\u001b[0;34m(self, **hints)\u001b[0m\n\u001b[1;32m    230\u001b[0m                 \u001b[0mf\u001b[0m \u001b[0;34m=\u001b[0m \u001b[0;34m-\u001b[0m\u001b[0mf\u001b[0m\u001b[0;34m\u001b[0m\u001b[0;34m\u001b[0m\u001b[0m\n\u001b[1;32m    231\u001b[0m \u001b[0;34m\u001b[0m\u001b[0m\n\u001b[0;32m--> 232\u001b[0;31m             \u001b[0mnewf\u001b[0m \u001b[0;34m=\u001b[0m \u001b[0meval_sum\u001b[0m\u001b[0;34m(\u001b[0m\u001b[0mf\u001b[0m\u001b[0;34m,\u001b[0m \u001b[0;34m(\u001b[0m\u001b[0mi\u001b[0m\u001b[0;34m,\u001b[0m \u001b[0ma\u001b[0m\u001b[0;34m,\u001b[0m \u001b[0mb\u001b[0m\u001b[0;34m)\u001b[0m\u001b[0;34m)\u001b[0m\u001b[0;34m\u001b[0m\u001b[0;34m\u001b[0m\u001b[0m\n\u001b[0m\u001b[1;32m    233\u001b[0m             \u001b[0;32mif\u001b[0m \u001b[0mnewf\u001b[0m \u001b[0;32mis\u001b[0m \u001b[0;32mNone\u001b[0m\u001b[0;34m:\u001b[0m\u001b[0;34m\u001b[0m\u001b[0;34m\u001b[0m\u001b[0m\n\u001b[1;32m    234\u001b[0m                 \u001b[0;32mif\u001b[0m \u001b[0mf\u001b[0m \u001b[0;34m==\u001b[0m \u001b[0mself\u001b[0m\u001b[0;34m.\u001b[0m\u001b[0mfunction\u001b[0m\u001b[0;34m:\u001b[0m\u001b[0;34m\u001b[0m\u001b[0;34m\u001b[0m\u001b[0m\n",
      "\u001b[0;32m~/miniconda3/envs/general/lib/python3.7/site-packages/sympy/concrete/summations.py\u001b[0m in \u001b[0;36meval_sum\u001b[0;34m(f, limits)\u001b[0m\n\u001b[1;32m    982\u001b[0m     \u001b[0;31m# this can save time when b-a is big.\u001b[0m\u001b[0;34m\u001b[0m\u001b[0;34m\u001b[0m\u001b[0;34m\u001b[0m\u001b[0m\n\u001b[1;32m    983\u001b[0m     \u001b[0;31m# We should try to transform to partial fractions\u001b[0m\u001b[0;34m\u001b[0m\u001b[0;34m\u001b[0m\u001b[0;34m\u001b[0m\u001b[0m\n\u001b[0;32m--> 984\u001b[0;31m     \u001b[0mvalue\u001b[0m \u001b[0;34m=\u001b[0m \u001b[0meval_sum_symbolic\u001b[0m\u001b[0;34m(\u001b[0m\u001b[0mf\u001b[0m\u001b[0;34m.\u001b[0m\u001b[0mexpand\u001b[0m\u001b[0;34m(\u001b[0m\u001b[0;34m)\u001b[0m\u001b[0;34m,\u001b[0m \u001b[0;34m(\u001b[0m\u001b[0mi\u001b[0m\u001b[0;34m,\u001b[0m \u001b[0ma\u001b[0m\u001b[0;34m,\u001b[0m \u001b[0mb\u001b[0m\u001b[0;34m)\u001b[0m\u001b[0;34m)\u001b[0m\u001b[0;34m\u001b[0m\u001b[0;34m\u001b[0m\u001b[0m\n\u001b[0m\u001b[1;32m    985\u001b[0m     \u001b[0;32mif\u001b[0m \u001b[0mvalue\u001b[0m \u001b[0;32mis\u001b[0m \u001b[0;32mnot\u001b[0m \u001b[0;32mNone\u001b[0m\u001b[0;34m:\u001b[0m\u001b[0;34m\u001b[0m\u001b[0;34m\u001b[0m\u001b[0m\n\u001b[1;32m    986\u001b[0m         \u001b[0;32mreturn\u001b[0m \u001b[0mvalue\u001b[0m\u001b[0;34m\u001b[0m\u001b[0;34m\u001b[0m\u001b[0m\n",
      "\u001b[0;32m~/miniconda3/envs/general/lib/python3.7/site-packages/sympy/concrete/summations.py\u001b[0m in \u001b[0;36meval_sum_symbolic\u001b[0;34m(f, limits)\u001b[0m\n\u001b[1;32m   1063\u001b[0m         \u001b[0mwithout_i\u001b[0m\u001b[0;34m,\u001b[0m \u001b[0mwith_i\u001b[0m \u001b[0;34m=\u001b[0m \u001b[0mf\u001b[0m\u001b[0;34m.\u001b[0m\u001b[0mas_independent\u001b[0m\u001b[0;34m(\u001b[0m\u001b[0mi\u001b[0m\u001b[0;34m)\u001b[0m\u001b[0;34m\u001b[0m\u001b[0;34m\u001b[0m\u001b[0m\n\u001b[1;32m   1064\u001b[0m         \u001b[0;32mif\u001b[0m \u001b[0mwithout_i\u001b[0m \u001b[0;34m!=\u001b[0m \u001b[0;36m1\u001b[0m\u001b[0;34m:\u001b[0m\u001b[0;34m\u001b[0m\u001b[0;34m\u001b[0m\u001b[0m\n\u001b[0;32m-> 1065\u001b[0;31m             \u001b[0ms\u001b[0m \u001b[0;34m=\u001b[0m \u001b[0meval_sum_symbolic\u001b[0m\u001b[0;34m(\u001b[0m\u001b[0mwith_i\u001b[0m\u001b[0;34m,\u001b[0m \u001b[0;34m(\u001b[0m\u001b[0mi\u001b[0m\u001b[0;34m,\u001b[0m \u001b[0ma\u001b[0m\u001b[0;34m,\u001b[0m \u001b[0mb\u001b[0m\u001b[0;34m)\u001b[0m\u001b[0;34m)\u001b[0m\u001b[0;34m\u001b[0m\u001b[0;34m\u001b[0m\u001b[0m\n\u001b[0m\u001b[1;32m   1066\u001b[0m             \u001b[0;32mif\u001b[0m \u001b[0ms\u001b[0m\u001b[0;34m:\u001b[0m\u001b[0;34m\u001b[0m\u001b[0;34m\u001b[0m\u001b[0m\n\u001b[1;32m   1067\u001b[0m                 \u001b[0mr\u001b[0m \u001b[0;34m=\u001b[0m \u001b[0mwithout_i\u001b[0m\u001b[0;34m*\u001b[0m\u001b[0ms\u001b[0m\u001b[0;34m\u001b[0m\u001b[0;34m\u001b[0m\u001b[0m\n",
      "\u001b[0;32m~/miniconda3/envs/general/lib/python3.7/site-packages/sympy/concrete/summations.py\u001b[0m in \u001b[0;36meval_sum_symbolic\u001b[0;34m(f, limits)\u001b[0m\n\u001b[1;32m   1185\u001b[0m         \u001b[0;32mreturn\u001b[0m \u001b[0mh\u001b[0m\u001b[0;34m\u001b[0m\u001b[0;34m\u001b[0m\u001b[0m\n\u001b[1;32m   1186\u001b[0m \u001b[0;34m\u001b[0m\u001b[0m\n\u001b[0;32m-> 1187\u001b[0;31m     \u001b[0mfactored\u001b[0m \u001b[0;34m=\u001b[0m \u001b[0mf_orig\u001b[0m\u001b[0;34m.\u001b[0m\u001b[0mfactor\u001b[0m\u001b[0;34m(\u001b[0m\u001b[0;34m)\u001b[0m\u001b[0;34m\u001b[0m\u001b[0;34m\u001b[0m\u001b[0m\n\u001b[0m\u001b[1;32m   1188\u001b[0m     \u001b[0;32mif\u001b[0m \u001b[0mfactored\u001b[0m \u001b[0;34m!=\u001b[0m \u001b[0mf_orig\u001b[0m\u001b[0;34m:\u001b[0m\u001b[0;34m\u001b[0m\u001b[0;34m\u001b[0m\u001b[0m\n\u001b[1;32m   1189\u001b[0m         \u001b[0;32mreturn\u001b[0m \u001b[0meval_sum_symbolic\u001b[0m\u001b[0;34m(\u001b[0m\u001b[0mfactored\u001b[0m\u001b[0;34m,\u001b[0m \u001b[0;34m(\u001b[0m\u001b[0mi\u001b[0m\u001b[0;34m,\u001b[0m \u001b[0ma\u001b[0m\u001b[0;34m,\u001b[0m \u001b[0mb\u001b[0m\u001b[0;34m)\u001b[0m\u001b[0;34m)\u001b[0m\u001b[0;34m\u001b[0m\u001b[0;34m\u001b[0m\u001b[0m\n",
      "\u001b[0;32m~/miniconda3/envs/general/lib/python3.7/site-packages/sympy/core/expr.py\u001b[0m in \u001b[0;36mfactor\u001b[0;34m(self, *gens, **args)\u001b[0m\n\u001b[1;32m   3585\u001b[0m         \u001b[0;34m\"\"\"See the factor() function in sympy.polys.polytools\"\"\"\u001b[0m\u001b[0;34m\u001b[0m\u001b[0;34m\u001b[0m\u001b[0m\n\u001b[1;32m   3586\u001b[0m         \u001b[0;32mfrom\u001b[0m \u001b[0msympy\u001b[0m\u001b[0;34m.\u001b[0m\u001b[0mpolys\u001b[0m \u001b[0;32mimport\u001b[0m \u001b[0mfactor\u001b[0m\u001b[0;34m\u001b[0m\u001b[0;34m\u001b[0m\u001b[0m\n\u001b[0;32m-> 3587\u001b[0;31m         \u001b[0;32mreturn\u001b[0m \u001b[0mfactor\u001b[0m\u001b[0;34m(\u001b[0m\u001b[0mself\u001b[0m\u001b[0;34m,\u001b[0m \u001b[0;34m*\u001b[0m\u001b[0mgens\u001b[0m\u001b[0;34m,\u001b[0m \u001b[0;34m**\u001b[0m\u001b[0margs\u001b[0m\u001b[0;34m)\u001b[0m\u001b[0;34m\u001b[0m\u001b[0;34m\u001b[0m\u001b[0m\n\u001b[0m\u001b[1;32m   3588\u001b[0m \u001b[0;34m\u001b[0m\u001b[0m\n\u001b[1;32m   3589\u001b[0m     \u001b[0;32mdef\u001b[0m \u001b[0mrefine\u001b[0m\u001b[0;34m(\u001b[0m\u001b[0mself\u001b[0m\u001b[0;34m,\u001b[0m \u001b[0massumption\u001b[0m\u001b[0;34m=\u001b[0m\u001b[0;32mTrue\u001b[0m\u001b[0;34m)\u001b[0m\u001b[0;34m:\u001b[0m\u001b[0;34m\u001b[0m\u001b[0;34m\u001b[0m\u001b[0m\n",
      "\u001b[0;32m~/miniconda3/envs/general/lib/python3.7/site-packages/sympy/polys/polytools.py\u001b[0m in \u001b[0;36mfactor\u001b[0;34m(f, *gens, **args)\u001b[0m\n\u001b[1;32m   6359\u001b[0m \u001b[0;34m\u001b[0m\u001b[0m\n\u001b[1;32m   6360\u001b[0m     \u001b[0;32mtry\u001b[0m\u001b[0;34m:\u001b[0m\u001b[0;34m\u001b[0m\u001b[0;34m\u001b[0m\u001b[0m\n\u001b[0;32m-> 6361\u001b[0;31m         \u001b[0;32mreturn\u001b[0m \u001b[0m_generic_factor\u001b[0m\u001b[0;34m(\u001b[0m\u001b[0mf\u001b[0m\u001b[0;34m,\u001b[0m \u001b[0mgens\u001b[0m\u001b[0;34m,\u001b[0m \u001b[0margs\u001b[0m\u001b[0;34m,\u001b[0m \u001b[0mmethod\u001b[0m\u001b[0;34m=\u001b[0m\u001b[0;34m'factor'\u001b[0m\u001b[0;34m)\u001b[0m\u001b[0;34m\u001b[0m\u001b[0;34m\u001b[0m\u001b[0m\n\u001b[0m\u001b[1;32m   6362\u001b[0m     \u001b[0;32mexcept\u001b[0m \u001b[0mPolynomialError\u001b[0m \u001b[0;32mas\u001b[0m \u001b[0mmsg\u001b[0m\u001b[0;34m:\u001b[0m\u001b[0;34m\u001b[0m\u001b[0;34m\u001b[0m\u001b[0m\n\u001b[1;32m   6363\u001b[0m         \u001b[0;32mif\u001b[0m \u001b[0;32mnot\u001b[0m \u001b[0mf\u001b[0m\u001b[0;34m.\u001b[0m\u001b[0mis_commutative\u001b[0m\u001b[0;34m:\u001b[0m\u001b[0;34m\u001b[0m\u001b[0;34m\u001b[0m\u001b[0m\n",
      "\u001b[0;32m~/miniconda3/envs/general/lib/python3.7/site-packages/sympy/polys/polytools.py\u001b[0m in \u001b[0;36m_generic_factor\u001b[0;34m(expr, gens, args, method)\u001b[0m\n\u001b[1;32m   6031\u001b[0m     \u001b[0mopt\u001b[0m \u001b[0;34m=\u001b[0m \u001b[0moptions\u001b[0m\u001b[0;34m.\u001b[0m\u001b[0mbuild_options\u001b[0m\u001b[0;34m(\u001b[0m\u001b[0mgens\u001b[0m\u001b[0;34m,\u001b[0m \u001b[0margs\u001b[0m\u001b[0;34m)\u001b[0m\u001b[0;34m\u001b[0m\u001b[0;34m\u001b[0m\u001b[0m\n\u001b[1;32m   6032\u001b[0m     \u001b[0mopt\u001b[0m\u001b[0;34m[\u001b[0m\u001b[0;34m'fraction'\u001b[0m\u001b[0;34m]\u001b[0m \u001b[0;34m=\u001b[0m \u001b[0mfraction\u001b[0m\u001b[0;34m\u001b[0m\u001b[0;34m\u001b[0m\u001b[0m\n\u001b[0;32m-> 6033\u001b[0;31m     \u001b[0;32mreturn\u001b[0m \u001b[0m_symbolic_factor\u001b[0m\u001b[0;34m(\u001b[0m\u001b[0msympify\u001b[0m\u001b[0;34m(\u001b[0m\u001b[0mexpr\u001b[0m\u001b[0;34m)\u001b[0m\u001b[0;34m,\u001b[0m \u001b[0mopt\u001b[0m\u001b[0;34m,\u001b[0m \u001b[0mmethod\u001b[0m\u001b[0;34m)\u001b[0m\u001b[0;34m\u001b[0m\u001b[0;34m\u001b[0m\u001b[0m\n\u001b[0m\u001b[1;32m   6034\u001b[0m \u001b[0;34m\u001b[0m\u001b[0m\n\u001b[1;32m   6035\u001b[0m \u001b[0;34m\u001b[0m\u001b[0m\n",
      "\u001b[0;32m~/miniconda3/envs/general/lib/python3.7/site-packages/sympy/polys/polytools.py\u001b[0m in \u001b[0;36m_symbolic_factor\u001b[0;34m(expr, opt, method)\u001b[0m\n\u001b[1;32m   5971\u001b[0m         \u001b[0;32mif\u001b[0m \u001b[0mhasattr\u001b[0m\u001b[0;34m(\u001b[0m\u001b[0mexpr\u001b[0m\u001b[0;34m,\u001b[0m\u001b[0;34m'_eval_factor'\u001b[0m\u001b[0;34m)\u001b[0m\u001b[0;34m:\u001b[0m\u001b[0;34m\u001b[0m\u001b[0;34m\u001b[0m\u001b[0m\n\u001b[1;32m   5972\u001b[0m             \u001b[0;32mreturn\u001b[0m \u001b[0mexpr\u001b[0m\u001b[0;34m.\u001b[0m\u001b[0m_eval_factor\u001b[0m\u001b[0;34m(\u001b[0m\u001b[0;34m)\u001b[0m\u001b[0;34m\u001b[0m\u001b[0;34m\u001b[0m\u001b[0m\n\u001b[0;32m-> 5973\u001b[0;31m         \u001b[0mcoeff\u001b[0m\u001b[0;34m,\u001b[0m \u001b[0mfactors\u001b[0m \u001b[0;34m=\u001b[0m \u001b[0m_symbolic_factor_list\u001b[0m\u001b[0;34m(\u001b[0m\u001b[0mtogether\u001b[0m\u001b[0;34m(\u001b[0m\u001b[0mexpr\u001b[0m\u001b[0;34m,\u001b[0m \u001b[0mfraction\u001b[0m\u001b[0;34m=\u001b[0m\u001b[0mopt\u001b[0m\u001b[0;34m[\u001b[0m\u001b[0;34m'fraction'\u001b[0m\u001b[0;34m]\u001b[0m\u001b[0;34m)\u001b[0m\u001b[0;34m,\u001b[0m \u001b[0mopt\u001b[0m\u001b[0;34m,\u001b[0m \u001b[0mmethod\u001b[0m\u001b[0;34m)\u001b[0m\u001b[0;34m\u001b[0m\u001b[0;34m\u001b[0m\u001b[0m\n\u001b[0m\u001b[1;32m   5974\u001b[0m         \u001b[0;32mreturn\u001b[0m \u001b[0m_keep_coeff\u001b[0m\u001b[0;34m(\u001b[0m\u001b[0mcoeff\u001b[0m\u001b[0;34m,\u001b[0m \u001b[0m_factors_product\u001b[0m\u001b[0;34m(\u001b[0m\u001b[0mfactors\u001b[0m\u001b[0;34m)\u001b[0m\u001b[0;34m)\u001b[0m\u001b[0;34m\u001b[0m\u001b[0;34m\u001b[0m\u001b[0m\n\u001b[1;32m   5975\u001b[0m     \u001b[0;32melif\u001b[0m \u001b[0mhasattr\u001b[0m\u001b[0;34m(\u001b[0m\u001b[0mexpr\u001b[0m\u001b[0;34m,\u001b[0m \u001b[0;34m'args'\u001b[0m\u001b[0;34m)\u001b[0m\u001b[0;34m:\u001b[0m\u001b[0;34m\u001b[0m\u001b[0;34m\u001b[0m\u001b[0m\n",
      "\u001b[0;32m~/miniconda3/envs/general/lib/python3.7/site-packages/sympy/polys/polytools.py\u001b[0m in \u001b[0;36m_symbolic_factor_list\u001b[0;34m(expr, opt, method)\u001b[0m\n\u001b[1;32m   5930\u001b[0m \u001b[0;34m\u001b[0m\u001b[0m\n\u001b[1;32m   5931\u001b[0m         \u001b[0;32mtry\u001b[0m\u001b[0;34m:\u001b[0m\u001b[0;34m\u001b[0m\u001b[0;34m\u001b[0m\u001b[0m\n\u001b[0;32m-> 5932\u001b[0;31m             \u001b[0mpoly\u001b[0m\u001b[0;34m,\u001b[0m \u001b[0m_\u001b[0m \u001b[0;34m=\u001b[0m \u001b[0m_poly_from_expr\u001b[0m\u001b[0;34m(\u001b[0m\u001b[0mbase\u001b[0m\u001b[0;34m,\u001b[0m \u001b[0mopt\u001b[0m\u001b[0;34m)\u001b[0m\u001b[0;34m\u001b[0m\u001b[0;34m\u001b[0m\u001b[0m\n\u001b[0m\u001b[1;32m   5933\u001b[0m         \u001b[0;32mexcept\u001b[0m \u001b[0mPolificationFailed\u001b[0m \u001b[0;32mas\u001b[0m \u001b[0mexc\u001b[0m\u001b[0;34m:\u001b[0m\u001b[0;34m\u001b[0m\u001b[0;34m\u001b[0m\u001b[0m\n\u001b[1;32m   5934\u001b[0m             \u001b[0mfactors\u001b[0m\u001b[0;34m.\u001b[0m\u001b[0mappend\u001b[0m\u001b[0;34m(\u001b[0m\u001b[0;34m(\u001b[0m\u001b[0mexc\u001b[0m\u001b[0;34m.\u001b[0m\u001b[0mexpr\u001b[0m\u001b[0;34m,\u001b[0m \u001b[0mexp\u001b[0m\u001b[0;34m)\u001b[0m\u001b[0;34m)\u001b[0m\u001b[0;34m\u001b[0m\u001b[0;34m\u001b[0m\u001b[0m\n",
      "\u001b[0;32m~/miniconda3/envs/general/lib/python3.7/site-packages/sympy/polys/polytools.py\u001b[0m in \u001b[0;36m_poly_from_expr\u001b[0;34m(expr, opt)\u001b[0m\n\u001b[1;32m   4285\u001b[0m         \u001b[0mexpr\u001b[0m \u001b[0;34m=\u001b[0m \u001b[0mexpr\u001b[0m\u001b[0;34m.\u001b[0m\u001b[0mexpand\u001b[0m\u001b[0;34m(\u001b[0m\u001b[0;34m)\u001b[0m\u001b[0;34m\u001b[0m\u001b[0;34m\u001b[0m\u001b[0m\n\u001b[1;32m   4286\u001b[0m \u001b[0;34m\u001b[0m\u001b[0m\n\u001b[0;32m-> 4287\u001b[0;31m     \u001b[0mrep\u001b[0m\u001b[0;34m,\u001b[0m \u001b[0mopt\u001b[0m \u001b[0;34m=\u001b[0m \u001b[0m_dict_from_expr\u001b[0m\u001b[0;34m(\u001b[0m\u001b[0mexpr\u001b[0m\u001b[0;34m,\u001b[0m \u001b[0mopt\u001b[0m\u001b[0;34m)\u001b[0m\u001b[0;34m\u001b[0m\u001b[0;34m\u001b[0m\u001b[0m\n\u001b[0m\u001b[1;32m   4288\u001b[0m     \u001b[0;32mif\u001b[0m \u001b[0;32mnot\u001b[0m \u001b[0mopt\u001b[0m\u001b[0;34m.\u001b[0m\u001b[0mgens\u001b[0m\u001b[0;34m:\u001b[0m\u001b[0;34m\u001b[0m\u001b[0;34m\u001b[0m\u001b[0m\n\u001b[1;32m   4289\u001b[0m         \u001b[0;32mraise\u001b[0m \u001b[0mPolificationFailed\u001b[0m\u001b[0;34m(\u001b[0m\u001b[0mopt\u001b[0m\u001b[0;34m,\u001b[0m \u001b[0morig\u001b[0m\u001b[0;34m,\u001b[0m \u001b[0mexpr\u001b[0m\u001b[0;34m)\u001b[0m\u001b[0;34m\u001b[0m\u001b[0;34m\u001b[0m\u001b[0m\n",
      "\u001b[0;32m~/miniconda3/envs/general/lib/python3.7/site-packages/sympy/polys/polyutils.py\u001b[0m in \u001b[0;36m_dict_from_expr\u001b[0;34m(expr, opt)\u001b[0m\n\u001b[1;32m    368\u001b[0m         \u001b[0mrep\u001b[0m\u001b[0;34m,\u001b[0m \u001b[0mgens\u001b[0m \u001b[0;34m=\u001b[0m \u001b[0m_dict_from_expr_if_gens\u001b[0m\u001b[0;34m(\u001b[0m\u001b[0mexpr\u001b[0m\u001b[0;34m,\u001b[0m \u001b[0mopt\u001b[0m\u001b[0;34m)\u001b[0m\u001b[0;34m\u001b[0m\u001b[0;34m\u001b[0m\u001b[0m\n\u001b[1;32m    369\u001b[0m     \u001b[0;32melse\u001b[0m\u001b[0;34m:\u001b[0m\u001b[0;34m\u001b[0m\u001b[0;34m\u001b[0m\u001b[0m\n\u001b[0;32m--> 370\u001b[0;31m         \u001b[0mrep\u001b[0m\u001b[0;34m,\u001b[0m \u001b[0mgens\u001b[0m \u001b[0;34m=\u001b[0m \u001b[0m_dict_from_expr_no_gens\u001b[0m\u001b[0;34m(\u001b[0m\u001b[0mexpr\u001b[0m\u001b[0;34m,\u001b[0m \u001b[0mopt\u001b[0m\u001b[0;34m)\u001b[0m\u001b[0;34m\u001b[0m\u001b[0;34m\u001b[0m\u001b[0m\n\u001b[0m\u001b[1;32m    371\u001b[0m \u001b[0;34m\u001b[0m\u001b[0m\n\u001b[1;32m    372\u001b[0m     \u001b[0;32mreturn\u001b[0m \u001b[0mrep\u001b[0m\u001b[0;34m,\u001b[0m \u001b[0mopt\u001b[0m\u001b[0;34m.\u001b[0m\u001b[0mclone\u001b[0m\u001b[0;34m(\u001b[0m\u001b[0;34m{\u001b[0m\u001b[0;34m'gens'\u001b[0m\u001b[0;34m:\u001b[0m \u001b[0mgens\u001b[0m\u001b[0;34m}\u001b[0m\u001b[0;34m)\u001b[0m\u001b[0;34m\u001b[0m\u001b[0;34m\u001b[0m\u001b[0m\n",
      "\u001b[0;32m~/miniconda3/envs/general/lib/python3.7/site-packages/sympy/polys/polyutils.py\u001b[0m in \u001b[0;36m_dict_from_expr_no_gens\u001b[0;34m(expr, opt)\u001b[0m\n\u001b[1;32m    311\u001b[0m \u001b[0;32mdef\u001b[0m \u001b[0m_dict_from_expr_no_gens\u001b[0m\u001b[0;34m(\u001b[0m\u001b[0mexpr\u001b[0m\u001b[0;34m,\u001b[0m \u001b[0mopt\u001b[0m\u001b[0;34m)\u001b[0m\u001b[0;34m:\u001b[0m\u001b[0;34m\u001b[0m\u001b[0;34m\u001b[0m\u001b[0m\n\u001b[1;32m    312\u001b[0m     \u001b[0;34m\"\"\"Transform an expression into a multinomial form and figure out generators. \"\"\"\u001b[0m\u001b[0;34m\u001b[0m\u001b[0;34m\u001b[0m\u001b[0m\n\u001b[0;32m--> 313\u001b[0;31m     \u001b[0;34m(\u001b[0m\u001b[0mpoly\u001b[0m\u001b[0;34m,\u001b[0m\u001b[0;34m)\u001b[0m\u001b[0;34m,\u001b[0m \u001b[0mgens\u001b[0m \u001b[0;34m=\u001b[0m \u001b[0m_parallel_dict_from_expr_no_gens\u001b[0m\u001b[0;34m(\u001b[0m\u001b[0;34m(\u001b[0m\u001b[0mexpr\u001b[0m\u001b[0;34m,\u001b[0m\u001b[0;34m)\u001b[0m\u001b[0;34m,\u001b[0m \u001b[0mopt\u001b[0m\u001b[0;34m)\u001b[0m\u001b[0;34m\u001b[0m\u001b[0;34m\u001b[0m\u001b[0m\n\u001b[0m\u001b[1;32m    314\u001b[0m     \u001b[0;32mreturn\u001b[0m \u001b[0mpoly\u001b[0m\u001b[0;34m,\u001b[0m \u001b[0mgens\u001b[0m\u001b[0;34m\u001b[0m\u001b[0;34m\u001b[0m\u001b[0m\n\u001b[1;32m    315\u001b[0m \u001b[0;34m\u001b[0m\u001b[0m\n",
      "\u001b[0;32m~/miniconda3/envs/general/lib/python3.7/site-packages/sympy/polys/polyutils.py\u001b[0m in \u001b[0;36m_parallel_dict_from_expr_no_gens\u001b[0;34m(exprs, opt)\u001b[0m\n\u001b[1;32m    274\u001b[0m         \u001b[0mreprs\u001b[0m\u001b[0;34m.\u001b[0m\u001b[0mappend\u001b[0m\u001b[0;34m(\u001b[0m\u001b[0mterms\u001b[0m\u001b[0;34m)\u001b[0m\u001b[0;34m\u001b[0m\u001b[0;34m\u001b[0m\u001b[0m\n\u001b[1;32m    275\u001b[0m \u001b[0;34m\u001b[0m\u001b[0m\n\u001b[0;32m--> 276\u001b[0;31m     \u001b[0mgens\u001b[0m \u001b[0;34m=\u001b[0m \u001b[0m_sort_gens\u001b[0m\u001b[0;34m(\u001b[0m\u001b[0mgens\u001b[0m\u001b[0;34m,\u001b[0m \u001b[0mopt\u001b[0m\u001b[0;34m=\u001b[0m\u001b[0mopt\u001b[0m\u001b[0;34m)\u001b[0m\u001b[0;34m\u001b[0m\u001b[0;34m\u001b[0m\u001b[0m\n\u001b[0m\u001b[1;32m    277\u001b[0m     \u001b[0mk\u001b[0m\u001b[0;34m,\u001b[0m \u001b[0mindices\u001b[0m \u001b[0;34m=\u001b[0m \u001b[0mlen\u001b[0m\u001b[0;34m(\u001b[0m\u001b[0mgens\u001b[0m\u001b[0;34m)\u001b[0m\u001b[0;34m,\u001b[0m \u001b[0;34m{\u001b[0m\u001b[0;34m}\u001b[0m\u001b[0;34m\u001b[0m\u001b[0;34m\u001b[0m\u001b[0m\n\u001b[1;32m    278\u001b[0m \u001b[0;34m\u001b[0m\u001b[0m\n",
      "\u001b[0;32m~/miniconda3/envs/general/lib/python3.7/site-packages/sympy/polys/polyutils.py\u001b[0m in \u001b[0;36m_sort_gens\u001b[0;34m(gens, **args)\u001b[0m\n\u001b[1;32m    101\u001b[0m \u001b[0;34m\u001b[0m\u001b[0m\n\u001b[1;32m    102\u001b[0m     \u001b[0;32mtry\u001b[0m\u001b[0;34m:\u001b[0m\u001b[0;34m\u001b[0m\u001b[0;34m\u001b[0m\u001b[0m\n\u001b[0;32m--> 103\u001b[0;31m         \u001b[0mgens\u001b[0m \u001b[0;34m=\u001b[0m \u001b[0msorted\u001b[0m\u001b[0;34m(\u001b[0m\u001b[0mgens\u001b[0m\u001b[0;34m,\u001b[0m \u001b[0mkey\u001b[0m\u001b[0;34m=\u001b[0m\u001b[0morder_key\u001b[0m\u001b[0;34m)\u001b[0m\u001b[0;34m\u001b[0m\u001b[0;34m\u001b[0m\u001b[0m\n\u001b[0m\u001b[1;32m    104\u001b[0m     \u001b[0;32mexcept\u001b[0m \u001b[0mTypeError\u001b[0m\u001b[0;34m:\u001b[0m  \u001b[0;31m# pragma: no cover\u001b[0m\u001b[0;34m\u001b[0m\u001b[0;34m\u001b[0m\u001b[0m\n\u001b[1;32m    105\u001b[0m         \u001b[0;32mpass\u001b[0m\u001b[0;34m\u001b[0m\u001b[0;34m\u001b[0m\u001b[0m\n",
      "\u001b[0;32m~/miniconda3/envs/general/lib/python3.7/site-packages/sympy/polys/polyutils.py\u001b[0m in \u001b[0;36morder_key\u001b[0;34m(gen)\u001b[0m\n\u001b[1;32m     81\u001b[0m                 \u001b[0;32mpass\u001b[0m\u001b[0;34m\u001b[0m\u001b[0;34m\u001b[0m\u001b[0m\n\u001b[1;32m     82\u001b[0m \u001b[0;34m\u001b[0m\u001b[0m\n\u001b[0;32m---> 83\u001b[0;31m         \u001b[0mname\u001b[0m\u001b[0;34m,\u001b[0m \u001b[0mindex\u001b[0m \u001b[0;34m=\u001b[0m \u001b[0m_re_gen\u001b[0m\u001b[0;34m.\u001b[0m\u001b[0mmatch\u001b[0m\u001b[0;34m(\u001b[0m\u001b[0mgen\u001b[0m\u001b[0;34m)\u001b[0m\u001b[0;34m.\u001b[0m\u001b[0mgroups\u001b[0m\u001b[0;34m(\u001b[0m\u001b[0;34m)\u001b[0m\u001b[0;34m\u001b[0m\u001b[0;34m\u001b[0m\u001b[0m\n\u001b[0m\u001b[1;32m     84\u001b[0m \u001b[0;34m\u001b[0m\u001b[0m\n\u001b[1;32m     85\u001b[0m         \u001b[0;32mif\u001b[0m \u001b[0mindex\u001b[0m\u001b[0;34m:\u001b[0m\u001b[0;34m\u001b[0m\u001b[0;34m\u001b[0m\u001b[0m\n",
      "\u001b[0;31mAttributeError\u001b[0m: 'NoneType' object has no attribute 'groups'"
     ]
    }
   ],
   "source": [
    "# So close. But this is failing with the NoneType no attribute groups\n",
    "# error.  Usually that has been an Array/Matrix mismatch.\n",
    "e1.doit() # HERE"
   ]
  },
  {
   "cell_type": "markdown",
   "metadata": {},
   "source": [
    "Representation of arrays\n",
    "---\n",
    "\n",
    "So far I've tried IndexedBase, Matrix and vector. Array is also a possibility.\n",
    "\n",
    "There were substitution issues with IndexedBase for >1 dimension.\n",
    "\n",
    "IndexedBase, afaict, cannot be sliced.  Once it gets indexed, it must be indexed over all of its dimensions. On the other hand, at some level it is supposed to support einstein summation notation, so usage for vectors may be possible. That said, I have not seen where this summation convention is actually invoked. It is alluded to in get_contraction_structure, but seems that one would have to manually execute the implied summation.\n",
    "\n",
    "Matrix is clumsy, but mostly worked. Matrix is always 2D, or an element. This is a bit awkward when what I want is a 2-vector, but I get a 2x1 matrix. While a Vector in a Matrix can get lost, a Matrix seems to be preserved and will evaluate to a zero matrix with shape.  Have to be careful about when the matrix shape has wildcards (good with replace) or has proper dimensions (good with subs). \n",
    "\n",
    "In one case, while calculating hbar, there was an issue where C and alpha were not substituted, apparently\n",
    "because N_f wasn't being replaced in their dimensions. Maybe something about subbing into MatrixElement? Switching to IndexedBase with shape=(N_f,2), and defining with Array seems to help.\n",
    "\n",
    "Vector is not type consistent. An expression that should be the zero vector may evaluate to scalar zero. This comes up when putting vectors into matrices.  The \"type\" of the Matrix is not checked and the result is just 0. \n",
    "\n",
    "Array can only be concrete.  I.e. it could probably be used to sub in for an IndexedBase, but there is no ArraySymbol.\n",
    "\n",
    "RecursionError: related to case expr, and call to decompogen.  Adding a check that gens[0]!=f before recurring seems to fix this?\n",
    "\n",
    "_rec_replace: related to mixing wilds in target expression\n",
    "\n",
    "none has no attribute group: maybe a matrix error. try subbing in Array\n"
   ]
  },
  {
   "cell_type": "code",
   "execution_count": null,
   "metadata": {},
   "outputs": [],
   "source": [
    "if 0: # Kleptsova, eq 5, simplified for a single layer,\n",
    "    # and ignoring the erroneous trailing \"= 0\"\n",
    "    sfc=IndexedBase('s')\n",
    "    eq5a_orig=Eq( A_c[c] * eta_np1[c],\n",
    "                 A_c[c] * eta_n[c]  \n",
    "                 - theta*dt * Sum( sfc[f,c]*lf[f] * h_fn[f] * u_fnp1[f],\n",
    "                               (f,1,N_f))\n",
    "                 - (1-theta)*dt * Sum( sfc[f,c]*lf[f]*h_fn[f] * u_fn[f],\n",
    "                                   (f,1,N_f)) )\n",
    "    eq5a_orig"
   ]
  },
  {
   "cell_type": "code",
   "execution_count": null,
   "metadata": {},
   "outputs": [],
   "source": [
    "if 0: # Original eq18.\n",
    "    # the 'f' in a_fn is generic.  it will get rendered as a_j^n\n",
    "    delta=IndexedBase(r'\\delta') # ==|sfc|: delta[j,c]=1 if edge j is part of cell c\n",
    "    j=Symbol('j')\n",
    "    hbar=IndexedBase(r'\\overline{h}')\n",
    "    ufstar_=IndexedBase(r'\\mathbf{u^*}')\n",
    "    alpha_=IndexedBase(r'\\alpha') # weighting for neighbor ci of edge j\n",
    "    nf_=IndexedBase(r'\\mathbf{n}') # edge normal\n",
    "\n",
    "    N_c=Symbol('N_c')\n",
    "\n",
    "    eq18_orig = Eq( a_fn[j],\n",
    "           Sum(delta[j,c] * alpha_[j,c] * \n",
    "                      Sum(sfc[f,c]*h_fn[f]*lf[f]/(A_c[c]*hbar[j]) * u_fn[f]*(ufstar_[f]*nf_[j]-u_fn[j]),\n",
    "                          (f,1,N_f)),\n",
    "                      (c,  1, N_c) ))\n",
    "    eq18_orig"
   ]
  }
 ],
 "metadata": {
  "kernelspec": {
   "display_name": "Python 3",
   "language": "python",
   "name": "python3"
  },
  "language_info": {
   "codemirror_mode": {
    "name": "ipython",
    "version": 3
   },
   "file_extension": ".py",
   "mimetype": "text/x-python",
   "name": "python",
   "nbconvert_exporter": "python",
   "pygments_lexer": "ipython3",
   "version": "3.7.3"
  }
 },
 "nbformat": 4,
 "nbformat_minor": 2
}
