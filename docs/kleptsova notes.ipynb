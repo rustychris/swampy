{
 "cells": [
  {
   "cell_type": "code",
   "execution_count": 380,
   "metadata": {},
   "outputs": [],
   "source": [
    "# Exploring sympy as a way of building up the model\n",
    "from sympy import *"
   ]
  },
  {
   "cell_type": "code",
   "execution_count": 381,
   "metadata": {},
   "outputs": [],
   "source": [
    "# TOPOLOGY:\n",
    "N_f=Symbol(\"N_f\") # global number of faces\n",
    "N_c=Symbol(\"N_c\") # global number of cells\n",
    "\n",
    "f,c,fi=symbols('f c fi') # ,cls=Idx) # Generic face and cell indices,  side index of a cell\n",
    "fw=Wild('f')\n",
    "cw=Wild('c')\n",
    "\n",
    "# Kleptsova uses the sparse s[f,c] connection between edges and cell\n",
    "# s[f,c] is +1 if face f is adjacent to cell c and f's normal is out of\n",
    "# c.  -1 if the normal is into c.  0 if f is not adjacent to c.\n",
    "#sfc=IndexedBase(\"s\")\n",
    "\n",
    "\n",
    "# I'd rather use a more direct description:\n",
    "Nf_max=Symbol('N_f,max') # maximum number of sides for a cell\n",
    "Nf_c=IndexedBase('Nf') # number of sides for cell c\n",
    "F=MatrixSymbol('F',N_c,Nf_max) # F[c,i] the i'th face adjacent to cell c \n",
    "S=MatrixSymbol('S',N_c,Nf_max) # S[c,i] sign of the normal of F[c,i] w.r.t. c's outward normal\n",
    "\n",
    "# Question: what is the right convention here for boundary edges?\n",
    "c1=IndexedBase('c1') # 'upstream' cell for edge f\n",
    "c2=IndexedBase('c2') # 'downstream' cell for edge f\n",
    "\n",
    "# constant GEOMETRY:\n",
    "A_c=IndexedBase(\"A\") # cell area\n",
    "lf=IndexedBase(\"l\") # length of face f\n",
    "b=IndexedBase('b') # cell bed elevation\n",
    "\n",
    "# variable GEOMETRY:\n",
    "h_fn=IndexedBase(\"hf^n\") # edge depth\n",
    "h_cn=IndexedBase('hc^n') # water column depth\n",
    "eta_n=IndexedBase(r'\\eta^n')\n",
    "eta_np1=IndexedBase(r'\\eta^{n+1}')\n",
    "\n",
    "# DYNAMIC\n",
    "u_fn=IndexedBase(\"u^n\")       # edge normal velocity\n",
    "u_fnp1=IndexedBase(\"u^{n+1}\") #\n",
    "a_fn=IndexedBase(\"a^n\") # advective term\n",
    "\n",
    "G_fn=IndexedBase(\"G^n\")       # pressure term\n",
    "G_fnp1=IndexedBase(\"G^{n+1}\") # \n",
    "\n",
    "# NUMERICAL\n",
    "g=Symbol('g') # gravity\n",
    "dt=Symbol(\"\\Delta t\")\n",
    "theta=Symbol(r\"\\theta\")"
   ]
  },
  {
   "cell_type": "code",
   "execution_count": 382,
   "metadata": {},
   "outputs": [
    {
     "data": {
      "text/latex": [
       "$\\displaystyle {A}_{c} {\\eta^{n+1}}_{c} = - \\Delta t \\theta \\sum_{f=1}^{N_{f}} {hf^{n}}_{f} {l}_{f} {s}_{f,c} {u^{n+1}}_{f} - \\Delta t \\left(1 - \\theta\\right) \\sum_{f=1}^{N_{f}} {hf^{n}}_{f} {l}_{f} {s}_{f,c} {u^{n}}_{f} + {A}_{c} {\\eta^n}_{c}$"
      ],
      "text/plain": [
       "Eq(A[c]*\\eta^{n+1}[c], -\\Delta t*\\theta*Sum(hf^n[f]*l[f]*s[f, c]*u^{n+1}[f], (f, 1, N_f)) - \\Delta t*(1 - \\theta)*Sum(hf^n[f]*l[f]*s[f, c]*u^n[f], (f, 1, N_f)) + A[c]*\\eta^n[c])"
      ]
     },
     "execution_count": 382,
     "metadata": {},
     "output_type": "execute_result"
    }
   ],
   "source": [
    "# Kleptsova, eq 5, simplified for a single layer,\n",
    "# and ignoring the erroneous trailing \"= 0\"\n",
    "eq5a_orig=Eq( A_c[c] * eta_np1[c],\n",
    "             A_c[c] * eta_n[c]  \n",
    "             - theta*dt * Sum( sfc[f,c]*lf[f] * h_fn[f] * u_fnp1[f],\n",
    "                           (f,1,N_f))\n",
    "             - (1-theta)*dt * Sum( sfc[f,c]*lf[f]*h_fn[f] * u_fn[f],\n",
    "                               (f,1,N_f)) )\n",
    "eq5a_orig"
   ]
  },
  {
   "cell_type": "code",
   "execution_count": 383,
   "metadata": {},
   "outputs": [
    {
     "data": {
      "text/latex": [
       "$\\displaystyle {A}_{c} {\\eta^{n+1}}_{c} = {A}_{c} {\\eta^n}_{c} - \\sum_{fi=0}^{{Nf}_{c} - 1} \\Delta t \\left(\\theta {u^{n+1}}_{F_{c, fi}} + \\left(1 - \\theta\\right) {u^{n}}_{F_{c, fi}}\\right) {hf^{n}}_{F_{c, fi}} {l}_{F_{c, fi}} S_{c, fi}$"
      ],
      "text/plain": [
       "Eq(A[c]*\\eta^{n+1}[c], A[c]*\\eta^n[c] - Sum(\\Delta t*(\\theta*u^{n+1}[F[c, fi]] + (1 - \\theta)*u^n[F[c, fi]])*hf^n[F[c, fi]]*l[F[c, fi]]*S[c, fi], (fi, 0, Nf[c] - 1)))"
      ]
     },
     "execution_count": 383,
     "metadata": {},
     "output_type": "execute_result"
    }
   ],
   "source": [
    "# Kleptsova, eq 5, rewritten with S,F instead of sfc, and combine the\n",
    "# summations for clarity\n",
    "eq5a=Eq( A_c[c] * eta_np1[c],\n",
    "         A_c[c] * eta_n[c]  \n",
    "         - Sum(    dt * S[c,fi] *lf[F[c,fi]] * h_fn[F[c,fi]] \n",
    "               * ( theta*u_fnp1[F[c,fi]] + (1-theta)*u_fn[F[c,fi]]),\n",
    "                           (fi,0,Nf_c[c]-1)) )\n",
    "eq5a"
   ]
  },
  {
   "cell_type": "code",
   "execution_count": 384,
   "metadata": {},
   "outputs": [
    {
     "data": {
      "text/latex": [
       "$\\displaystyle {u^{n+1}}_{f} = - \\Delta t g \\left(\\theta {G^{n+1}}_{f} + \\left(1 - \\theta\\right) {G^{n}}_{f}\\right) + \\Delta t {a^{n}}_{f} + {u^{n}}_{f}$"
      ],
      "text/plain": [
       "Eq(u^{n+1}[f_], -\\Delta t*g*(\\theta*G^{n+1}[f_] + (1 - \\theta)*G^n[f_]) + \\Delta t*a^n[f_] + u^n[f_])"
      ]
     },
     "execution_count": 384,
     "metadata": {},
     "output_type": "execute_result"
    }
   ],
   "source": [
    "# Kleptsova eq 5, omitting Coriolis, and simplified for single layer.\n",
    "# Use fw=wildcard f to simplify substitution below\n",
    "eq5b=Eq( u_fnp1[fw],\n",
    "        u_fn[fw] + dt*a_fn[fw]\n",
    "        -g*dt*(theta*G_fnp1[fw] + (1-theta)*G_fn[fw]) )\n",
    "eq5b"
   ]
  },
  {
   "cell_type": "code",
   "execution_count": 403,
   "metadata": {},
   "outputs": [
    {
     "data": {
      "text/latex": [
       "$\\displaystyle {hf^{n}}_{f} = \\begin{cases} {hc^{n}}_{{c_{1}}_{f}} & \\text{for}\\: {u^{n}}_{f} > 0 \\\\{hc^{n}}_{{c_{2}}_{f}} & \\text{for}\\: {u^{n}}_{f} < 0 \\\\\\max\\left({\\eta^n}_{{c_{1}}_{f}}, {\\eta^n}_{{c_{2}}_{f}}\\right) - \\max\\left({b}_{{c_{1}}_{f}}, {b}_{{c_{2}}_{f}}\\right) & \\text{otherwise} \\end{cases}$"
      ],
      "text/plain": [
       "Eq(hf^n[f_], Piecewise((hc^n[c1[f_]], u^n[f_] > 0), (hc^n[c2[f_]], u^n[f_] < 0), (Max(\\eta^n[c1[f_]], \\eta^n[c2[f_]]) - Max(b[c1[f_]], b[c2[f_]]), True)))"
      ]
     },
     "metadata": {},
     "output_type": "display_data"
    },
    {
     "data": {
      "text/latex": [
       "$\\displaystyle {hc^{n}}_{c} = {\\eta^n}_{c} - {b}_{c}$"
      ],
      "text/plain": [
       "Eq(hc^n[c_], \\eta^n[c_] - b[c_])"
      ]
     },
     "metadata": {},
     "output_type": "display_data"
    },
    {
     "data": {
      "text/latex": [
       "$\\displaystyle {hf^{n}}_{f} = \\begin{cases} {\\eta^n}_{{c_{1}}_{f}} - {b}_{{c_{1}}_{f}} & \\text{for}\\: {u^{n}}_{f} > 0 \\\\{\\eta^n}_{{c_{2}}_{f}} - {b}_{{c_{2}}_{f}} & \\text{for}\\: {u^{n}}_{f} < 0 \\\\\\max\\left({\\eta^n}_{{c_{1}}_{f}}, {\\eta^n}_{{c_{2}}_{f}}\\right) - \\max\\left({b}_{{c_{1}}_{f}}, {b}_{{c_{2}}_{f}}\\right) & \\text{otherwise} \\end{cases}$"
      ],
      "text/plain": [
       "Eq(hf^n[f_], Piecewise((\\eta^n[c1[f_]] - b[c1[f_]], u^n[f_] > 0), (\\eta^n[c2[f_]] - b[c2[f_]], u^n[f_] < 0), (Max(\\eta^n[c1[f_]], \\eta^n[c2[f_]]) - Max(b[c1[f_]], b[c2[f_]]), True)))"
      ]
     },
     "execution_count": 403,
     "metadata": {},
     "output_type": "execute_result"
    }
   ],
   "source": [
    "# Definition of h_fn\n",
    "# rather than continue with their sfc notation, use the\n",
    "# more direct c1(f)\n",
    "eq8a=Eq( h_fn[fw],\n",
    "        Piecewise( (h_cn[c1[fw]],  u_fn[fw]>0),\n",
    "                   (h_cn[c2[fw]],  u_fn[fw]<0),\n",
    "                   (Max( eta_n[c1[fw]], eta_n[c2[fw]])\n",
    "                    -\n",
    "                    Max( b[c1[fw]], b[c2[fw]]),\n",
    "                    True) ) )\n",
    "display(eq8a)\n",
    "eq8b=Eq( h_cn[cw],\n",
    "         eta_n[cw] - b[cw])\n",
    "display(eq8b)\n",
    "\n",
    "eq8=eq8a.replace(eq8b.lhs,eq8b.rhs)\n",
    "eq8                "
   ]
  },
  {
   "cell_type": "code",
   "execution_count": 386,
   "metadata": {},
   "outputs": [
    {
     "data": {
      "text/latex": [
       "$\\displaystyle {A}_{c} {\\eta^{n+1}}_{c} = {A}_{c} {\\eta^n}_{c} - \\sum_{fi=0}^{{Nf}_{c} - 1} \\Delta t \\left(\\theta \\left(- \\Delta t g \\left(\\theta {G^{n+1}}_{F_{c, fi}} + \\left(1 - \\theta\\right) {G^{n}}_{F_{c, fi}}\\right) + \\Delta t {a^{n}}_{F_{c, fi}} + {u^{n}}_{F_{c, fi}}\\right) + \\left(1 - \\theta\\right) {u^{n}}_{F_{c, fi}}\\right) {hf^{n}}_{F_{c, fi}} {l}_{F_{c, fi}} S_{c, fi}$"
      ],
      "text/plain": [
       "Eq(A[c]*\\eta^{n+1}[c], A[c]*\\eta^n[c] - Sum(\\Delta t*(\\theta*(-\\Delta t*g*(\\theta*G^{n+1}[F[c, fi]] + (1 - \\theta)*G^n[F[c, fi]]) + \\Delta t*a^n[F[c, fi]] + u^n[F[c, fi]]) + (1 - \\theta)*u^n[F[c, fi]])*hf^n[F[c, fi]]*l[F[c, fi]]*S[c, fi], (fi, 0, Nf[c] - 1)))"
      ]
     },
     "execution_count": 386,
     "metadata": {},
     "output_type": "execute_result"
    }
   ],
   "source": [
    "# The solution procedure\n",
    "# eq5a give the freesurface update.  But it has the implicit velocity\n",
    "# in it.  So we substitute, but use replace because the indexes \n",
    "# defeat subs().\n",
    "eq_comb1=eq5a.replace(eq5b.lhs,eq5b.rhs)\n",
    "eq_comb1"
   ]
  },
  {
   "cell_type": "code",
   "execution_count": 387,
   "metadata": {},
   "outputs": [
    {
     "data": {
      "text/latex": [
       "$\\displaystyle {G^{n}}_{f} = \\frac{- {\\eta^n}_{{c_{1}}_{f}} + {\\eta^n}_{{c_{2}}_{f}}}{{l}_{f}}$"
      ],
      "text/plain": [
       "Eq(G^n[f_], (-\\eta^n[c1[f_]] + \\eta^n[c2[f_]])/l[f_])"
      ]
     },
     "metadata": {},
     "output_type": "display_data"
    },
    {
     "data": {
      "text/latex": [
       "$\\displaystyle {G^{n+1}}_{f} = \\frac{- {\\eta^{n+1}}_{{c_{1}}_{f}} + {\\eta^{n+1}}_{{c_{2}}_{f}}}{{l}_{f}}$"
      ],
      "text/plain": [
       "Eq(G^{n+1}[f_], (-\\eta^{n+1}[c1[f_]] + \\eta^{n+1}[c2[f_]])/l[f_])"
      ]
     },
     "execution_count": 387,
     "metadata": {},
     "output_type": "execute_result"
    }
   ],
   "source": [
    "# Define G operator\n",
    "# in 3D this would also include baroclinic, which would\n",
    "# be explicit\n",
    "eqG=Eq( G_fn[fw],\n",
    "        (eta_n[c2[fw]]-eta_n[c1[fw]])/lf[fw])\n",
    "eqGn=eqG\n",
    "eqGnp1=eqG.subs(eta_n,eta_np1).subs(G_fn,G_fnp1)\n",
    "display(eqGn)\n",
    "eqGnp1"
   ]
  },
  {
   "cell_type": "code",
   "execution_count": 388,
   "metadata": {},
   "outputs": [
    {
     "data": {
      "text/latex": [
       "$\\displaystyle {A}_{c} {\\eta^{n+1}}_{c} = {A}_{c} {\\eta^n}_{c} - \\sum_{fi=0}^{{Nf}_{c} - 1} \\Delta t \\left(\\theta \\left(- \\Delta t g \\left(\\frac{\\theta \\left(- {\\eta^{n+1}}_{{c_{1}}_{F_{c, fi}}} + {\\eta^{n+1}}_{{c_{2}}_{F_{c, fi}}}\\right)}{{l}_{F_{c, fi}}} + \\frac{\\left(1 - \\theta\\right) \\left(- {\\eta^n}_{{c_{1}}_{F_{c, fi}}} + {\\eta^n}_{{c_{2}}_{F_{c, fi}}}\\right)}{{l}_{F_{c, fi}}}\\right) + {u^{n}}_{F_{c, fi}}\\right) + \\left(1 - \\theta\\right) {u^{n}}_{F_{c, fi}}\\right) {hf^{n}}_{F_{c, fi}} {l}_{F_{c, fi}} S_{c, fi}$"
      ],
      "text/plain": [
       "Eq(A[c]*\\eta^{n+1}[c], A[c]*\\eta^n[c] - Sum(\\Delta t*(\\theta*(-\\Delta t*g*(\\theta*(-\\eta^{n+1}[c1[F[c, fi]]] + \\eta^{n+1}[c2[F[c, fi]]])/l[F[c, fi]] + (1 - \\theta)*(-\\eta^n[c1[F[c, fi]]] + \\eta^n[c2[F[c, fi]]])/l[F[c, fi]]) + u^n[F[c, fi]]) + (1 - \\theta)*u^n[F[c, fi]])*hf^n[F[c, fi]]*l[F[c, fi]]*S[c, fi], (fi, 0, Nf[c] - 1)))"
      ]
     },
     "execution_count": 388,
     "metadata": {},
     "output_type": "execute_result"
    }
   ],
   "source": [
    "eq_comb2=eq_comb1.replace(eqGn.lhs,eqGn.rhs)\n",
    "eq_comb2=eq_comb2.replace(eqGnp1.lhs,eqGnp1.rhs)\n",
    "eq_comb2=eq_comb2.replace(a_fn[fw],0) # while testing, drop advection\n",
    "eq_comb2"
   ]
  },
  {
   "cell_type": "code",
   "execution_count": 389,
   "metadata": {},
   "outputs": [],
   "source": [
    "# How does this work when evaluating?\n",
    "# Could iterate over c, substituting everything, to get a series of equations, and then\n",
    "# just ask sympy to solve."
   ]
  },
  {
   "cell_type": "code",
   "execution_count": 482,
   "metadata": {},
   "outputs": [],
   "source": [
    "# Now make some of those concrete:\n",
    "\n",
    "# 3 cells in a row.\n",
    "# two faces.\n",
    "\n",
    "# Inputs:\n",
    "inp={theta: 0.55,\n",
    "     dt: 1.0,\n",
    "     g: 9.8, # gravity\n",
    "     N_f: 2, # global number of faces\n",
    "     N_c: 3, # global number of cells\n",
    "     Nf_max: 2, # maximum number of sides for a cell\n",
    "     Nf_c:Matrix([1,2,1]), # number of sides for cell c\n",
    "     #F:Matrix( [[0,-1], # F[c,i] the i'th face adjacent to cell c\n",
    "     #           [0,1],\n",
    "     #          [1,-1]]),  \n",
    "     #S:Matrix( [[1,0], # S[c,i] sign of the normal of F[c,i] w.r.t. c's outward normal\n",
    "     #           [-1,1],\n",
    "     #           [-1,0]] ), \n",
    "     c1:Matrix( [0,1]), # 'upstream' cell for edge f\n",
    "     c2:Matrix( [1,2]), # 'downstream' cell for edge f\n",
    "     A_c:Matrix( [1.0,1.0,1.0]), # cell area\n",
    "     lf:Matrix( [1,1] ), # length of face f\n",
    "     b:Matrix( [0,0,0] ), # cell bed elevation\n",
    "    }\n",
    "\n",
    "Freal=Matrix( [[0,-1], # F[c,i] the i'th face adjacent to cell c\n",
    "                [0,1],\n",
    "                [1,-1]])\n",
    "\n",
    "Sreal=Matrix( [[1,0], # S[c,i] sign of the normal of F[c,i] w.r.t. c's outward normal\n",
    "               [-1,1],\n",
    "               [-1,0]] )\n",
    "\n",
    "state={\n",
    "     # h_fn is computed # edge depth\n",
    "     # h_cn is computed # water column depth\n",
    "     eta_n: Matrix([1.1,1,1]),\n",
    "     # eta_np1 is computed \n",
    "\n",
    "     u_fn: Matrix([0.0,0.0]) # edge normal velocity\n",
    "     # u_fnp1 is computed \n",
    "     # a_fn is computed # advective term\n",
    "}\n",
    "\n",
    "def sub_all(expr):\n",
    "    for k in inp:\n",
    "        expr=expr.replace(k,inp[k])\n",
    "    # eventually the parts that depend on state might be split off\n",
    "    for k in state:\n",
    "        expr=expr.replace(k,state[k])\n",
    "    return expr"
   ]
  },
  {
   "cell_type": "code",
   "execution_count": 483,
   "metadata": {},
   "outputs": [
    {
     "data": {
      "text/latex": [
       "$\\displaystyle \\left[\\begin{matrix}1.1\\\\1\\end{matrix}\\right]$"
      ],
      "text/plain": [
       "Matrix([\n",
       "[1.1],\n",
       "[  1]])"
      ]
     },
     "execution_count": 483,
     "metadata": {},
     "output_type": "execute_result"
    }
   ],
   "source": [
    "# Precalculate h_fn\n",
    "\n",
    "# Not sure why in this case subs() is required, and replace()\n",
    "# gives an error.\n",
    "eq8_0=eq8.rhs.replace(c1,inp[c1]).replace(c2,inp[c2]).subs(eta_n,state[eta_n]).subs(u_fn,state[u_fn])\n",
    "eq8_1=eq8_0.subs(b,inp[b])\n",
    "\n",
    "h_fn_real=Matrix( [ eq8_1.subs(fw,i) for i in range(inp[N_f])] )\n",
    "state[h_fn]=h_fn_real\n",
    "h_fn_real"
   ]
  },
  {
   "cell_type": "code",
   "execution_count": 484,
   "metadata": {},
   "outputs": [],
   "source": [
    "eq_real=sub_all(eq_comb2)\n",
    "Fw=sub_all(F)\n",
    "Sw=sub_all(S)\n",
    "eq_real=eq_real.replace(Fw,Freal).replace(Sw,Sreal)"
   ]
  },
  {
   "cell_type": "code",
   "execution_count": 485,
   "metadata": {},
   "outputs": [
    {
     "data": {
      "text/latex": [
       "$\\displaystyle - 1.0326095 {\\eta^{n+1}}_{0} + 0.0326095 {\\eta^{n+1}}_{1} + 1.09733195$"
      ],
      "text/plain": [
       "-1.0326095*\\eta^{n+1}[0] + 0.0326095*\\eta^{n+1}[1] + 1.09733195"
      ]
     },
     "metadata": {},
     "output_type": "display_data"
    },
    {
     "data": {
      "text/latex": [
       "$\\displaystyle 0.0326095 {\\eta^{n+1}}_{0} - 1.0622545 {\\eta^{n+1}}_{1} + 0.029645 {\\eta^{n+1}}_{2} + 1.00266805$"
      ],
      "text/plain": [
       "0.0326095*\\eta^{n+1}[0] - 1.0622545*\\eta^{n+1}[1] + 0.029645*\\eta^{n+1}[2] + 1.00266805"
      ]
     },
     "metadata": {},
     "output_type": "display_data"
    },
    {
     "data": {
      "text/latex": [
       "$\\displaystyle 0.029645 {\\eta^{n+1}}_{1} - 1.029645 {\\eta^{n+1}}_{2} + 1.0$"
      ],
      "text/plain": [
       "0.029645*\\eta^{n+1}[1] - 1.029645*\\eta^{n+1}[2] + 1.0"
      ]
     },
     "metadata": {},
     "output_type": "display_data"
    }
   ],
   "source": [
    "cell_eqs=[  eq_real.subs(c,i).doit()\n",
    "          for i in range(inp[N_c]) ]\n",
    "cell_eqs=[ e.rhs-e.lhs for e in cell_eqs]\n",
    "unknowns=[eta_np1[i] for i in range(inp[N_c])]\n",
    "for e in cell_eqs:\n",
    "    display(e)"
   ]
  },
  {
   "cell_type": "code",
   "execution_count": 495,
   "metadata": {},
   "outputs": [
    {
     "data": {
      "text/latex": [
       "$\\displaystyle \\left[\\begin{matrix}1.09442923578866\\\\1.0054148623289\\\\1.00015590188244\\end{matrix}\\right]$"
      ],
      "text/plain": [
       "Matrix([\n",
       "[1.09442923578866],\n",
       "[ 1.0054148623289],\n",
       "[1.00015590188244]])"
      ]
     },
     "execution_count": 495,
     "metadata": {},
     "output_type": "execute_result"
    }
   ],
   "source": [
    "eta_set=linsolve(cell_eqs,unknowns)\n",
    "eta_np1_real=Matrix(list(eta_set)[0])\n",
    "state[eta_np1]=eta_np1_real\n",
    "eta_np1_real\n"
   ]
  },
  {
   "cell_type": "code",
   "execution_count": 503,
   "metadata": {},
   "outputs": [
    {
     "data": {
      "text/latex": [
       "$\\displaystyle \\left[\\begin{matrix}0.0920787472948126\\\\0.00283457968064464\\end{matrix}\\right]$"
      ],
      "text/plain": [
       "Matrix([\n",
       "[ 0.0920787472948126],\n",
       "[0.00283457968064464]])"
      ]
     },
     "execution_count": 503,
     "metadata": {},
     "output_type": "execute_result"
    }
   ],
   "source": [
    "# And solve for velocity:\n",
    "eq5c=eq5b.replace(eqGn.lhs,eqGn.rhs).replace(eqGnp1.lhs,eqGnp1.rhs).replace(a_fn[fw],0)\n",
    "eq5d=sub_all(eq5c)\n",
    "\n",
    "u_fnp1_real=Matrix( [eq5d.rhs.subs(fw,i) for i in range(inp[N_f])] )\n",
    "state[u_fnp1]=u_fnp1_real\n",
    "u_fnp1_real"
   ]
  },
  {
   "cell_type": "markdown",
   "metadata": {},
   "source": [
    "Advection\n",
    "---\n"
   ]
  },
  {
   "cell_type": "code",
   "execution_count": 321,
   "metadata": {},
   "outputs": [],
   "source": [
    "delta=IndexedBase(r'\\delta') # ==|sfc|: delta[j,c]=1 if edge j is part of cell c\n",
    "j=Symbol('j')\n",
    "alpha=IndexedBase(r'\\alpha') # weighting for cell c on edge j\n",
    "hbar=IndexedBase(r'\\overline{h}')\n",
    "ufstar=IndexedBase(r'\\mathbf{u^*}')\n",
    "nf=IndexedBase(r'\\mathbf{n}')\n",
    "N_c=Symbol('N_c')"
   ]
  },
  {
   "cell_type": "code",
   "execution_count": 322,
   "metadata": {},
   "outputs": [
    {
     "data": {
      "text/latex": [
       "$\\displaystyle {a^{n}}_{j} = \\sum_{Idx\\left(c\\right)=1}^{N_{c}} {\\alpha}_{j,Idx\\left(c\\right)} {\\delta}_{j,Idx\\left(c\\right)} \\sum_{Idx\\left(f\\right)=1}^{N_{f}} \\frac{\\left({\\mathbf{n}}_{j} {\\mathbf{u^*}}_{Idx\\left(f\\right)} - {u^{n}}_{j}\\right) {hf^{n}}_{Idx\\left(f\\right)} {l}_{Idx\\left(f\\right)} {s}_{Idx\\left(f\\right),Idx\\left(c\\right)} {u^{n}}_{Idx\\left(f\\right)}}{{A}_{Idx\\left(c\\right)} {\\overline{h}}_{j}}$"
      ],
      "text/plain": [
       "Eq(a^n[j], Sum(\\alpha[j, c]*\\delta[j, c]*Sum((\\mathbf{n}[j]*\\mathbf{u^*}[f] - u^n[j])*hf^n[f]*l[f]*s[f, c]*u^n[f]/(A[c]*\\overline{h}[j]), (f, 1, N_f)), (c, 1, N_c)))"
      ]
     },
     "execution_count": 322,
     "metadata": {},
     "output_type": "execute_result"
    }
   ],
   "source": [
    "# the 'f' in a_fn is generic.  it will get rendered as a_j^n\n",
    "Eq( a_fn[j],\n",
    "   Sum(delta[j,c] * alpha[j,c] * \n",
    "              Sum(sfc[f,c]*h_fn[f]*lf[f]/(A_c[c]*hbar[j]) * u_fn[f]*(ufstar[f]*nf[j]-u_fn[j]),\n",
    "                  (f,1,N_f)),\n",
    "              (c,  1, N_c) ))"
   ]
  },
  {
   "cell_type": "code",
   "execution_count": 323,
   "metadata": {},
   "outputs": [],
   "source": [
    "# it's worth seeing if I can solve the rest, and if\n",
    "# it proves worthwhile then come back to define u*, hbar, n etc."
   ]
  }
 ],
 "metadata": {
  "kernelspec": {
   "display_name": "Python 3",
   "language": "python",
   "name": "python3"
  },
  "language_info": {
   "codemirror_mode": {
    "name": "ipython",
    "version": 3
   },
   "file_extension": ".py",
   "mimetype": "text/x-python",
   "name": "python",
   "nbconvert_exporter": "python",
   "pygments_lexer": "ipython3",
   "version": "3.7.3"
  }
 },
 "nbformat": 4,
 "nbformat_minor": 2
}
